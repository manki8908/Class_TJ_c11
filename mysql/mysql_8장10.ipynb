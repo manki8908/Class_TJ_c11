{
 "cells": [
  {
   "attachments": {},
   "cell_type": "markdown",
   "metadata": {},
   "source": [
    "### 8-10\n",
    "* SQL 연동가능하도록 GUI"
   ]
  },
  {
   "cell_type": "code",
   "execution_count": 1,
   "metadata": {},
   "outputs": [],
   "source": [
    "import pymysql\n",
    "from tkinter import *\n",
    "from tkinter import messagebox"
   ]
  },
  {
   "cell_type": "code",
   "execution_count": 2,
   "metadata": {},
   "outputs": [],
   "source": [
    "# GUI 입력버튼을 사용할 때 sql에 데이터를 입력하는 함수\n",
    "# \n",
    "def insertData() :\n",
    "\n",
    "    # .. 초기화\n",
    "    con, cur = None, None\n",
    "    data1, data2, data3, data4 = \"\", \"\", \"\", \"\"\n",
    "    sql=\"\"\n",
    "\n",
    "    # .. sql 연결\n",
    "    conn = pymysql.connect(host='127.0.0.1', user='root', password='0000', db='soloDB', charset='utf8')\n",
    "    cur = conn.cursor()\n",
    "\n",
    "    # .. 4개 엔트리로부터 값을 가져옴, tkinter 모듈의 함수\n",
    "    # .. sql로 삽입\n",
    "    data1 = edt1.get();    data2 = edt2.get();    data3 = edt3.get();    data4 = edt4.get()\n",
    "    sql = \"INSERT INTO userTable VALUES('\" + data1 + \"','\" + data2 + \"','\" + data3 + \"',\" + data4 + \")\"\n",
    "    cur.execute(sql)\n",
    "\n",
    "    # .. 수집 데이터 적용\n",
    "    conn.commit()\n",
    "    conn.close()\n",
    "\n",
    "    # .. gui로 입력 성공 메세지 출력\n",
    "    messagebox.showinfo('성공', '데이터 입력 성공')"
   ]
  },
  {
   "cell_type": "code",
   "execution_count": 3,
   "metadata": {},
   "outputs": [],
   "source": [
    "# GUI 조회 버튼 \n",
    "#\n",
    "def selectData() :\n",
    "\n",
    "    # .. sql 연결 및 조회 자료 정보 받아옴\n",
    "    conn = pymysql.connect(host='127.0.0.1', user='root', password='0000', db='soloDB', charset='utf8')\n",
    "    cur = conn.cursor()\n",
    "    cur.execute(\"SELECT * FROM userTable\")\n",
    "\n",
    "    # .. 조회될 자료 초기화 및 헤더정보 입력\n",
    "    strData1, strData2, strData3, strData4  = [], [], [], []    \n",
    "    strData1.append(\"사용자 ID\");      strData2.append(\"사용자 이름\")\n",
    "    strData3.append(\"사용자 이메일\");   strData4.append(\"사용자 출생연도\")\n",
    "    strData1.append(\"-----------\");    strData2.append(\"-----------\")\n",
    "    strData3.append(\"-----------\");    strData4.append(\"-----------\")\n",
    "    \n",
    "    # .. 커서로 한줄한줄 정보를 받아 리스트에 저장\n",
    "    while (True) :\n",
    "        row = cur.fetchone()\n",
    "        if row== None :\n",
    "            break;\n",
    "        strData1.append(row[0]);        strData2.append(row[1])\n",
    "        strData3.append(row[2]);        strData4.append(row[3])\n",
    "\n",
    "    # .. 조회창에 조회될 정보들을 미리 비움\n",
    "    listData1.delete(0,listData1.size() - 1);    listData2.delete(0,listData2.size() - 1)\n",
    "    listData3.delete(0,listData3.size() - 1);    listData4.delete(0,listData4.size() - 1)\n",
    "    \n",
    "    # .. 조회창에 리스트 차례대로 출력\n",
    "    for item1, item2, item3, item4 in zip(strData1, strData2, strData3, strData4 ):\n",
    "        listData1.insert(END, item1)\n",
    "        listData2.insert(END, item2)\n",
    "        listData3.insert(END, item3)\n",
    "        listData4.insert(END, item4)\n",
    "    \n",
    "    # .. 연결 종료\n",
    "    conn.close()    "
   ]
  },
  {
   "cell_type": "code",
   "execution_count": 11,
   "metadata": {},
   "outputs": [],
   "source": [
    "## GUI 메인 코드부\n",
    "\n",
    "# 루트창 생성\n",
    "root = Tk()\n",
    "root.geometry(\"600x300\")\n",
    "root.title(\"완전한 GUI 응용 프로그램\")\n",
    "\n",
    "# 입력창, 조회창 선언\n",
    "edtFrame = Frame(root);\n",
    "edtFrame.pack()\n",
    "listFrame = Frame(root)\n",
    "listFrame.pack(side = BOTTOM,fill=BOTH, expand=1)  # 내용 아래로 출력\n",
    "\n",
    "# 입력창 4개 만들기(크기, 여백사용)\n",
    "edt1= Entry(edtFrame, width=10);    edt1.pack(side=LEFT,padx=10,pady=10)\n",
    "edt2= Entry(edtFrame, width=10);    edt2.pack(side=LEFT,padx=10,pady=10)\n",
    "edt3= Entry(edtFrame, width=10);    edt3.pack(side=LEFT,padx=10,pady=10)\n",
    "edt4= Entry(edtFrame, width=10);    edt4.pack(side=LEFT,padx=10,pady=10)\n",
    "\n",
    "# 입력/조회 버튼만들기\n",
    "btnInsert = Button(edtFrame, text=\"입력\", command = insertData)\n",
    "btnInsert.pack(side=LEFT,padx=10,pady=10)\n",
    "btnSelect = Button(edtFrame, text=\"조회\", command =selectData )\n",
    "btnSelect.pack(side=LEFT,padx=10,pady=10)\n",
    "\n",
    "# 리스트창 4개 만들기\n",
    "listData1 = Listbox(listFrame,bg = 'yellow');\n",
    "listData1.pack(side=LEFT,fill=BOTH, expand=1)\n",
    "listData2 = Listbox(listFrame,bg = 'yellow')\n",
    "listData2.pack(side=LEFT,fill=BOTH, expand=1)\n",
    "listData3 = Listbox(listFrame,bg = 'yellow')\n",
    "listData3.pack(side=LEFT,fill=BOTH, expand=1)\n",
    "listData4 = Listbox(listFrame,bg = 'yellow')\n",
    "listData4.pack(side=LEFT,fill=BOTH, expand=1)\n",
    "\n",
    "root.mainloop()\n"
   ]
  }
 ],
 "metadata": {
  "kernelspec": {
   "display_name": "Python 3",
   "language": "python",
   "name": "python3"
  },
  "language_info": {
   "codemirror_mode": {
    "name": "ipython",
    "version": 3
   },
   "file_extension": ".py",
   "mimetype": "text/x-python",
   "name": "python",
   "nbconvert_exporter": "python",
   "pygments_lexer": "ipython3",
   "version": "3.8.7"
  },
  "orig_nbformat": 4
 },
 "nbformat": 4,
 "nbformat_minor": 2
}
