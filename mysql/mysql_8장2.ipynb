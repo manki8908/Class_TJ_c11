{
 "cells": [
  {
   "attachments": {},
   "cell_type": "markdown",
   "metadata": {},
   "source": [
    "### 8-2 조회 프로그램"
   ]
  },
  {
   "cell_type": "code",
   "execution_count": 12,
   "metadata": {},
   "outputs": [
    {
     "data": {
      "text/plain": [
       "9"
      ]
     },
     "execution_count": 12,
     "metadata": {},
     "output_type": "execute_result"
    }
   ],
   "source": [
    "import pymysql\n",
    "\n",
    "# 전역변수 선언부\n",
    "con, cur = None, None\n",
    "data1, data2, data3, data4 = \"\", \"\", \"\", \"\"\n",
    "row=None\n",
    "\n",
    "# 메인 코드\n",
    "conn = pymysql.connect(host='127.0.0.1', user='root', password='0000', db='soloDB', charset='utf8')\n",
    "cur = conn.cursor()\n",
    "\n",
    "cur.execute(\"SELECT * FROM userTable\") # --> 결과가 cur에 저장됨"
   ]
  },
  {
   "cell_type": "code",
   "execution_count": 13,
   "metadata": {},
   "outputs": [
    {
     "name": "stdout",
     "output_type": "stream",
     "text": [
      "사용자ID    사용자이름    이메일        출생연도\n",
      "----------------------------------------------------\n",
      " hong               홍지윤         hong@naver.com   1996\n",
      "  kim               김태연           kim@daum.net   2011\n",
      " star               별사랑         star@paran.com   1990\n",
      " yang               양지은         yang@gamil.com   1993\n",
      " hong               홍지윤         hong@naver.com   1996\n",
      "  kim               김태연           kim@daum.net   2011\n",
      " star               별사랑         star@paran.com   1990\n",
      " yang               양지은         yang@gamil.com   1993\n",
      "   su                수지        suji@hanbit.com   1994\n"
     ]
    }
   ],
   "source": [
    "print(\"사용자ID    사용자이름    이메일        출생연도\")\n",
    "print(\"----------------------------------------------------\")\n",
    "\n",
    "while (True) :\n",
    "    row = cur.fetchone()    # 한 행씩 접근\n",
    "    if row== None :\n",
    "        break\n",
    "    data1 = row[0]\n",
    "    data2 = row[1]\n",
    "    data3 = row[2]\n",
    "    data4 = row[3]\n",
    "    print(\"%5s   %15s   %20s   %d\" % (data1, data2, data3, data4))\n",
    "    #print(\"%5s   %15s   %20s   %5s\" % (data1.rjust(5), data2, data3, str(data4).rjust(5)))\n"
   ]
  },
  {
   "cell_type": "code",
   "execution_count": 14,
   "metadata": {},
   "outputs": [],
   "source": [
    "\n",
    "conn.close()"
   ]
  }
 ],
 "metadata": {
  "kernelspec": {
   "display_name": "Python 3",
   "language": "python",
   "name": "python3"
  },
  "language_info": {
   "codemirror_mode": {
    "name": "ipython",
    "version": 3
   },
   "file_extension": ".py",
   "mimetype": "text/x-python",
   "name": "python",
   "nbconvert_exporter": "python",
   "pygments_lexer": "ipython3",
   "version": "3.8.7"
  },
  "orig_nbformat": 4
 },
 "nbformat": 4,
 "nbformat_minor": 2
}
