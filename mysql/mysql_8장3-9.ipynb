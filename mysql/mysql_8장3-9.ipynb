{
 "cells": [
  {
   "attachments": {},
   "cell_type": "markdown",
   "metadata": {},
   "source": [
    "### GUI 활용하기\n",
    "#### 8-3 ~ 8-9"
   ]
  },
  {
   "cell_type": "code",
   "execution_count": 3,
   "metadata": {},
   "outputs": [],
   "source": [
    "from tkinter import *\n",
    "\n",
    "# 루트 윈도우\n",
    "root = Tk()\n",
    "\n",
    "# 이 부분에서 화면을 구성하고 처리합니다\n",
    "\n",
    "# 타이틀\n",
    "root.title(\"혼공 GUI 연습\")\n",
    "\n",
    "# 윈도우창 크기\n",
    "root.geometry(\"400x200\")\n",
    "\n",
    "# 문자표현 위젯: label(부모윈도,옵션..)\n",
    "label1 = Label(root, text=\"혼공 SQL은\")\n",
    "label2 = Label(root, text=\"쉽습니다.\", font=(\"궁서체\", 30), bg=\"blue\", fg=\"yellow\")\n",
    "\n",
    "# 모든 위젯은 pack을 이용해 화면 출력\n",
    "label1.pack()\n",
    "label2.pack()\n",
    "\n",
    "root.mainloop()"
   ]
  },
  {
   "attachments": {},
   "cell_type": "markdown",
   "metadata": {},
   "source": [
    "버튼 만들기(누르면 지정한 작업 처리)"
   ]
  },
  {
   "cell_type": "code",
   "execution_count": 10,
   "metadata": {},
   "outputs": [],
   "source": [
    "from tkinter import *\n",
    "from tkinter import messagebox\n",
    "\n",
    "def clickButton() :\n",
    "    messagebox.showinfo('버튼 클릭', '버튼을 눌렀습니다..')\n",
    "\n",
    "root = Tk()\n",
    "root.geometry(\"200x200\")\n",
    "\n",
    "# 버튼 생성, command(클릭시 처리할 작업)\n",
    "button1 = Button(root, text=\"여기를 클릭하세요\", fg=\"red\", bg=\"yellow\", command=clickButton)\n",
    "\n",
    "# 화면 중간에 표시\n",
    "button1.pack(expand = 1)\n",
    "\n",
    "root.mainloop()"
   ]
  },
  {
   "attachments": {},
   "cell_type": "markdown",
   "metadata": {},
   "source": [
    "### 3개 버튼 만들기"
   ]
  },
  {
   "cell_type": "code",
   "execution_count": 12,
   "metadata": {},
   "outputs": [],
   "source": [
    "from tkinter import *\n",
    "root = Tk()\n",
    "\n",
    "button1 = Button(root, text=\"혼공1\")\n",
    "button2 = Button(root, text=\"혼공2\")\n",
    "button3 = Button(root, text=\"혼공3\")\n",
    "\n",
    "# 왼쪽부터 가로로 정렬\n",
    "button1.pack(side=LEFT)\n",
    "button2.pack(side=LEFT)\n",
    "button3.pack(side=LEFT)\n",
    "\n",
    "# 오른쪽 부터 가로로 정렬\n",
    "button1.pack(side=RIGHT)\n",
    "button2.pack(side=RIGHT)\n",
    "button3.pack(side=RIGHT)\n",
    "\n",
    "# 위쪽부터 아래로 정렬\n",
    "button1.pack(side=TOP)\n",
    "button2.pack(side=TOP)\n",
    "button3.pack(side=TOP)\n",
    "\n",
    "# 아래쪽부터 위로 정렬\n",
    "button1.pack(side=BOTTOM)\n",
    "button2.pack(side=BOTTOM)\n",
    "button3.pack(side=BOTTOM)\n",
    "\n",
    "# 여백 설정\n",
    "button1.pack(side=TOP, fill=X, padx=10, pady=10)\n",
    "button2.pack(side=TOP, fill=X, padx=10, pady=10)\n",
    "button3.pack(side=TOP, fill=X, padx=10, pady=10)\n",
    "\n",
    "root.mainloop()"
   ]
  },
  {
   "attachments": {},
   "cell_type": "markdown",
   "metadata": {},
   "source": [
    "프레임, 엔트리, 리스트 박스\n",
    "* 프레임(frame): 화면을 여러 구역으로 나눌때\n",
    "* 엔트리(entry): 입력상자\n",
    "* 리스트(listbox): 목록"
   ]
  },
  {
   "cell_type": "code",
   "execution_count": 15,
   "metadata": {},
   "outputs": [],
   "source": [
    "from tkinter import *\n",
    "root = Tk()\n",
    "root.geometry(\"200x250\")\n",
    "\n",
    "# ------- frame 설정\n",
    "# up frame\n",
    "upFrame = Frame(root)\n",
    "upFrame.pack()\n",
    "# down frame\n",
    "downFrame = Frame(root)\n",
    "downFrame.pack()\n",
    "\n",
    "# ------- up frame 안에 entry 설정\n",
    "# 크기, 여백 설정\n",
    "editBox = Entry(upFrame, width = 10, )\n",
    "editBox.pack(padx = 20, pady = 20)\n",
    "\n",
    "# ------- dwon frame 안에 listbox 설정\n",
    "listbox = Listbox(downFrame, bg = 'yellow');\n",
    "listbox.pack()\n",
    "listbox.insert(END, \"하나\")\n",
    "listbox.insert(END, \"둘\")\n",
    "listbox.insert(END, \"셋\")\n",
    "\n",
    "\n",
    "root.mainloop()"
   ]
  }
 ],
 "metadata": {
  "kernelspec": {
   "display_name": "Python 3",
   "language": "python",
   "name": "python3"
  },
  "language_info": {
   "codemirror_mode": {
    "name": "ipython",
    "version": 3
   },
   "file_extension": ".py",
   "mimetype": "text/x-python",
   "name": "python",
   "nbconvert_exporter": "python",
   "pygments_lexer": "ipython3",
   "version": "3.8.7"
  },
  "orig_nbformat": 4
 },
 "nbformat": 4,
 "nbformat_minor": 2
}
