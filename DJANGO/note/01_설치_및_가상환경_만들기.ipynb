{
 "cells": [
  {
   "attachments": {},
   "cell_type": "markdown",
   "metadata": {},
   "source": [
    "### 가상환경 설치 및 프로젝트 생성하기\n",
    "* 가상환경 설치: https://wikidocs.net/70588\n",
    "* 프로젝트 생성: https://wikidocs.net/72377\n",
    "* 강사님소스코드 버전: https://github.com/pahkey/djangobook\n",
    "\n",
    "1. 가상환경설치 후\n",
    "2. 커널 선택\n",
    "3. 장고설치"
   ]
  },
  {
   "cell_type": "code",
   "execution_count": 1,
   "metadata": {},
   "outputs": [
    {
     "name": "stdout",
     "output_type": "stream",
     "text": [
      "Requirement already satisfied: django==3.1.3 in c:\\workspace\\venvs\\mysite\\lib\\site-packages (3.1.3)\n",
      "Requirement already satisfied: asgiref<4,>=3.2.10 in c:\\workspace\\venvs\\mysite\\lib\\site-packages (from django==3.1.3) (3.6.0)\n",
      "Requirement already satisfied: sqlparse>=0.2.2 in c:\\workspace\\venvs\\mysite\\lib\\site-packages (from django==3.1.3) (0.4.4)\n",
      "Requirement already satisfied: pytz in c:\\workspace\\venvs\\mysite\\lib\\site-packages (from django==3.1.3) (2023.3)\n"
     ]
    },
    {
     "name": "stderr",
     "output_type": "stream",
     "text": [
      "WARNING: You are using pip version 20.2.3; however, version 23.1.2 is available.\n",
      "You should consider upgrading via the 'c:\\workspace\\venvs\\mysite\\scripts\\python.exe -m pip install --upgrade pip' command.\n"
     ]
    }
   ],
   "source": [
    "!pip install django==3.1.3"
   ]
  },
  {
   "cell_type": "code",
   "execution_count": 2,
   "metadata": {},
   "outputs": [
    {
     "name": "stdout",
     "output_type": "stream",
     "text": [
      "Collecting pip\n",
      "  Downloading pip-23.1.2-py3-none-any.whl (2.1 MB)\n",
      "Installing collected packages: pip\n",
      "  Attempting uninstall: pip\n",
      "    Found existing installation: pip 20.2.3\n",
      "    Uninstalling pip-20.2.3:\n",
      "      Successfully uninstalled pip-20.2.3\n",
      "Successfully installed pip-23.1.2\n"
     ]
    }
   ],
   "source": [
    "!c:\\workspace\\venvs\\mysite\\scripts\\python.exe -m pip install --upgrade pip"
   ]
  },
  {
   "cell_type": "code",
   "execution_count": null,
   "metadata": {},
   "outputs": [],
   "source": [
    "# 실행\n",
    "!python manage.py runserver\n",
    "\n",
    "# Starting development server at http://127.0.0.1:8000/\n",
    "# cntl + 주소 클릭"
   ]
  },
  {
   "attachments": {},
   "cell_type": "markdown",
   "metadata": {},
   "source": [
    "### Django 흝어보기\n",
    "* 모델\n",
    "    * 내용: 파이썬 객체로서 데이터베이스 생성/저장/연동 기능 포함\\\n",
    "    * 설계: \n",
    "      * \"from django.db import models\"를 이용하여 원하는 기능을 하는 class 생성 \\\n",
    "      * 모델을 생성하면 데이터베이스를 자동으로 생성해주는 유틸리티 실행\n",
    "\n",
    "          ! python manage.py makemigrations \\\n",
    "          makemigrations : 생성 가능한 모델을 찾아 테이블이 존재하지 않을 경우 마이그레이션을 생성 \\\n",
    "\n",
    "          ! python manage.py migrate \\     \n",
    "          migrate: 마이그레이션을 실행하고 사용자의 데이터베이스에 테이블을 생성 \\\n",
    "\n",
    "    * 사용 예:"
   ]
  },
  {
   "cell_type": "code",
   "execution_count": null,
   "metadata": {},
   "outputs": [],
   "source": [
    "# Import the models we created from our \"news\" app\n",
    ">>> from news.models import Article, Reporter\n",
    "\n",
    "# No reporters are in the system yet.\n",
    ">>> Reporter.objects.all()\n",
    "<QuerySet []>\n",
    "\n",
    "# Create a new Reporter.\n",
    ">>> r = Reporter(full_name=\"John Smith\")\n",
    "\n",
    "# Save the object into the database. You have to call save() explicitly.\n",
    ">>> r.save()\n",
    "\n",
    "# Now it has an ID.\n",
    ">>> r.id\n",
    "1"
   ]
  },
  {
   "attachments": {},
   "cell_type": "markdown",
   "metadata": {},
   "source": [
    "* URL 설계(urls.py)\n",
    "    * 내용: 개발자에 의해 이미 만들어진 URL 패턴들의 정보 위치\n",
    "            사용자가 특정 URL을 요청하면 일치하는 패턴의 URL 정보를 콜백함수(view)에 전달\n",
    "        * path( \"URL 경로\", 콜백함수(views) )\n",
    "    * 사용 예:"
   ]
  },
  {
   "cell_type": "code",
   "execution_count": null,
   "metadata": {},
   "outputs": [],
   "source": [
    "from django.urls import path\n",
    "from . import views\n",
    "\n",
    "urlpatterns = [\n",
    "    path(\"articles/<int:year>/\", views.year_archive),\n",
    "    path(\"articles/<int:year>/<int:month>/\", views.month_archive),\n",
    "    path(\"articles/<int:year>/<int:month>/<int:pk>/\", views.article_detail),\n",
    "]"
   ]
  },
  {
   "attachments": {},
   "cell_type": "markdown",
   "metadata": {},
   "source": [
    "* 뷰(view.py)\n",
    "    * 내용: 요청된 URL 파라메터를 작동함수에 적용하여 tamplate를 rendering\n",
    "    * view.year_archive 예)   "
   ]
  },
  {
   "cell_type": "code",
   "execution_count": null,
   "metadata": {},
   "outputs": [],
   "source": [
    "from django.shortcuts import render\n",
    "from .models import Article\n",
    "\n",
    "def year_archive(request, year):\n",
    "    a_list = Article.objects.filter(pub_date__year=year)\n",
    "    context = {\"year\": year, \"article_list\": a_list}\n",
    "    return render(request, \"news/year_archive.html\", context)"
   ]
  }
 ],
 "metadata": {
  "kernelspec": {
   "display_name": "Python 3",
   "language": "python",
   "name": "python3"
  },
  "language_info": {
   "codemirror_mode": {
    "name": "ipython",
    "version": 3
   },
   "file_extension": ".py",
   "mimetype": "text/x-python",
   "name": "python",
   "nbconvert_exporter": "python",
   "pygments_lexer": "ipython3",
   "version": "3.8.7"
  },
  "orig_nbformat": 4
 },
 "nbformat": 4,
 "nbformat_minor": 2
}
