{
 "cells": [
  {
   "attachments": {},
   "cell_type": "markdown",
   "metadata": {},
   "source": [
    "### 2-01 URL과 뷰(https://wikidocs.net/70649)\n",
    "* 앱(App): 프로젝트에 기능 추가 \\\n",
    "** django-admin startapp \"추가할 앱\" \\\n",
    "*** projects/mysite/pybo 앱생성, db.sqlite3 등 자동 생성\n"
   ]
  },
  {
   "attachments": {},
   "cell_type": "markdown",
   "metadata": {},
   "source": [
    "#### urls.py\n",
    "* 파일은 페이지 요청이 발생하면 가장 먼저 호출되는 파일\n",
    "* URL과 뷰 함수(views.py) 간의 매핑을 정의\n",
    "#### views.py\n",
    "* URL 매핑에 추가한 뷰 함수\n"
   ]
  },
  {
   "attachments": {},
   "cell_type": "markdown",
   "metadata": {},
   "source": [
    "#### 서버 구동\n",
    "* python manage.py runserver\n",
    "*  메인페이지, http://localhost:8000/"
   ]
  },
  {
   "attachments": {},
   "cell_type": "markdown",
   "metadata": {},
   "source": [
    "### 2-02 모델\n",
    "* 장고는 모델(Model)을 이용하여 데이터베이스를 처리한다. 보통 데이터베이스에 데이터를 저장하고 조회하기 위해서 SQL 쿼리문을 이용해야 하지만 장고의 모델(Model)을 사용하면 이런 SQL 쿼리문의 도움없이 데이터를 쉽게 처리할 수 있다."
   ]
  },
  {
   "attachments": {},
   "cell_type": "markdown",
   "metadata": {},
   "source": [
    "#### migrate\n",
    "* db 사용, 연동 기능\n",
    "    * (mysite) C:\\projects\\mysite>python manage.py migrate \n",
    "    * admin, auth, contenttypes, sessions 앱들이 사용하는 테이블들이 생성된다."
   ]
  },
  {
   "attachments": {},
   "cell_type": "markdown",
   "metadata": {},
   "source": [
    "#### 모델 작성하기(models.py)\n",
    "* 파이보: 질문과 답변을 할 수 있는 파이썬 게시판 서비스\n",
    "    * pybo 앱을 config/settings.py 파일의 INSTALLED_APPS 항목에 추가\n",
    "    * python manage.py makemigrations\n",
    "    * python manage.py migrate\n",
    "\n",
    "#### 모델 사용하기\n",
    "* 장고 shell: 파이썬 인터프리터 (python manage.py shell)\n",
    "* 위에서 만들었떤 Question, Answer 모듈을 로드해서 사용"
   ]
  },
  {
   "cell_type": "markdown",
   "metadata": {},
   "source": []
  }
 ],
 "metadata": {
  "kernelspec": {
   "display_name": "mysite",
   "language": "python",
   "name": "python3"
  },
  "language_info": {
   "name": "python",
   "version": "3.8.7"
  },
  "orig_nbformat": 4
 },
 "nbformat": 4,
 "nbformat_minor": 2
}
