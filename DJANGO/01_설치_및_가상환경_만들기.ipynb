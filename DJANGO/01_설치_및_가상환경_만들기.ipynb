{
 "cells": [
  {
   "attachments": {},
   "cell_type": "markdown",
   "metadata": {},
   "source": [
    "### 가상환경 설치 및 프로젝트 생성하기\n",
    "* 가상환경 설치: https://wikidocs.net/70588\n",
    "* 프로젝트 생성: https://wikidocs.net/72377\n",
    "* 강사님소스코드 버전: https://github.com/pahkey/djangobook\n",
    "\n",
    "가상환경설치 후\n",
    "커널 선택\n",
    "장고설치"
   ]
  },
  {
   "cell_type": "code",
   "execution_count": 1,
   "metadata": {},
   "outputs": [
    {
     "name": "stdout",
     "output_type": "stream",
     "text": [
      "Requirement already satisfied: django==3.1.3 in c:\\workspace\\venvs\\mysite\\lib\\site-packages (3.1.3)\n",
      "Requirement already satisfied: asgiref<4,>=3.2.10 in c:\\workspace\\venvs\\mysite\\lib\\site-packages (from django==3.1.3) (3.6.0)\n",
      "Requirement already satisfied: sqlparse>=0.2.2 in c:\\workspace\\venvs\\mysite\\lib\\site-packages (from django==3.1.3) (0.4.4)\n",
      "Requirement already satisfied: pytz in c:\\workspace\\venvs\\mysite\\lib\\site-packages (from django==3.1.3) (2023.3)\n"
     ]
    },
    {
     "name": "stderr",
     "output_type": "stream",
     "text": [
      "WARNING: You are using pip version 20.2.3; however, version 23.1.2 is available.\n",
      "You should consider upgrading via the 'c:\\workspace\\venvs\\mysite\\scripts\\python.exe -m pip install --upgrade pip' command.\n"
     ]
    }
   ],
   "source": [
    "!pip install django==3.1.3"
   ]
  },
  {
   "cell_type": "code",
   "execution_count": 2,
   "metadata": {},
   "outputs": [
    {
     "name": "stdout",
     "output_type": "stream",
     "text": [
      "Collecting pip\n",
      "  Downloading pip-23.1.2-py3-none-any.whl (2.1 MB)\n",
      "Installing collected packages: pip\n",
      "  Attempting uninstall: pip\n",
      "    Found existing installation: pip 20.2.3\n",
      "    Uninstalling pip-20.2.3:\n",
      "      Successfully uninstalled pip-20.2.3\n",
      "Successfully installed pip-23.1.2\n"
     ]
    }
   ],
   "source": [
    "!c:\\workspace\\venvs\\mysite\\scripts\\python.exe -m pip install --upgrade pip"
   ]
  },
  {
   "cell_type": "code",
   "execution_count": null,
   "metadata": {},
   "outputs": [],
   "source": [
    "# 실행\n",
    "!python manage.py runserver"
   ]
  },
  {
   "attachments": {},
   "cell_type": "markdown",
   "metadata": {},
   "source": [
    "cntl + 주소 클릭\n",
    "Starting development server at http://127.0.0.1:8000/"
   ]
  },
  {
   "attachments": {},
   "cell_type": "markdown",
   "metadata": {},
   "source": [
    "### Django 흝어보기\n",
    "* 모델\n",
    "    * 내용: 파이썬 객체로서 데이터베이스 생성/저장/연동 기능 포함\\\n",
    "      (데이터베이스 레이아웃을 파이썬 코드로 표현하는 object-relational mapper가 같이 딸려오기 때문 )\n",
    "    * 설계: \"from django.db import models\"를 이용하여 원하는 기능을하는 class 생성 \\\n",
    "      모델을 생성하면 데이터베이스를 자동으로 생성해주는 유틸리티 실행\n",
    "\n",
    "      $ python manage.py makemigrations\n",
    "      $ python manage.py migrate\n",
    "\n",
    "      makemigrations : 생성 가능한 모델을 찾아 테이블이 존재하지 않을 경우 마이그레이션을 생성\n",
    "      migrate: 마이그레이션을 실행하고 사용자의 데이터베이스에 테이블을 생성\n",
    "\n",
    "    * 사용 예:"
   ]
  },
  {
   "cell_type": "code",
   "execution_count": null,
   "metadata": {},
   "outputs": [],
   "source": [
    "# Import the models we created from our \"news\" app\n",
    ">>> from news.models import Article, Reporter\n",
    "\n",
    "# No reporters are in the system yet.\n",
    ">>> Reporter.objects.all()\n",
    "<QuerySet []>\n",
    "\n",
    "# Create a new Reporter.\n",
    ">>> r = Reporter(full_name=\"John Smith\")\n",
    "\n",
    "# Save the object into the database. You have to call save() explicitly.\n",
    ">>> r.save()\n",
    "\n",
    "# Now it has an ID.\n",
    ">>> r.id\n",
    "1"
   ]
  },
  {
   "attachments": {},
   "cell_type": "markdown",
   "metadata": {},
   "source": [
    "* URL 설계\n",
    "    * 내용: 만들고자하는 홈페이지의 내용들을 나타냄\n",
    "    * 설계: mysite/urls.py 작성"
   ]
  }
 ],
 "metadata": {
  "kernelspec": {
   "display_name": "Python 3",
   "language": "python",
   "name": "python3"
  },
  "language_info": {
   "codemirror_mode": {
    "name": "ipython",
    "version": 3
   },
   "file_extension": ".py",
   "mimetype": "text/x-python",
   "name": "python",
   "nbconvert_exporter": "python",
   "pygments_lexer": "ipython3",
   "version": "3.8.7"
  },
  "orig_nbformat": 4
 },
 "nbformat": 4,
 "nbformat_minor": 2
}
