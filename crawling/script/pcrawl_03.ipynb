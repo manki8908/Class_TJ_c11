{
 "cells": [
  {
   "cell_type": "code",
   "execution_count": 10,
   "metadata": {},
   "outputs": [],
   "source": [
    "import requests\n",
    "from bs4 import BeautifulStoneSoup\n",
    "url=\"https://crawlingstudy-dd3c9.web.app/03/\"\n",
    "response = requests.get(url)\n",
    "soup = BeautifulSoup(response.text, 'html.parser')"
   ]
  },
  {
   "attachments": {},
   "cell_type": "markdown",
   "metadata": {},
   "source": [
    "### 주식 정보"
   ]
  },
  {
   "cell_type": "code",
   "execution_count": 18,
   "metadata": {},
   "outputs": [],
   "source": [
    "popular = []\n",
    "\n",
    "for item in soup.select('#popularItemList > li'):\n",
    "    #print(item)\n",
    "    popular.append([item.select_one('a').text, item.select_one('span').text])\n",
    "    #print(popular)"
   ]
  },
  {
   "cell_type": "code",
   "execution_count": 17,
   "metadata": {},
   "outputs": [],
   "source": [
    "major = []\n",
    "\n",
    "for item in soup.select('.lst_major > li'):\n",
    "    #print(item)\n",
    "    major.append([item.select_one('a').text, item.select_one('span').text])\n",
    "    #print(major)"
   ]
  },
  {
   "attachments": {},
   "cell_type": "markdown",
   "metadata": {},
   "source": [
    "### 상한 정보 "
   ]
  },
  {
   "cell_type": "code",
   "execution_count": 28,
   "metadata": {},
   "outputs": [],
   "source": [
    "popular2 = []\n",
    "for item in soup.select('#popularItemList > li'):\n",
    "    #print(item)\n",
    "    popular2.append([item.select_one('a').text, item.select_one('img')['alt']])\n",
    "    #print(popular2)"
   ]
  },
  {
   "cell_type": "code",
   "execution_count": 29,
   "metadata": {},
   "outputs": [],
   "source": [
    "major2 = []\n",
    "\n",
    "for item in soup.select('.lst_major > li'):\n",
    "    #print(item)\n",
    "    major2.append([item.select_one('a').text, item.select_one('img')['alt']])\n",
    "    #print(major2)"
   ]
  },
  {
   "cell_type": "code",
   "execution_count": 73,
   "metadata": {},
   "outputs": [
    {
     "name": "stdout",
     "output_type": "stream",
     "text": [
      "[['써니전자', '상한'], ['안랩', '상승'], ['케이엠더블..', '상승'], ['피피아이', '상한'], ['삼성전자우', '상승'], ['SK하이닉스', '상승']]\n"
     ]
    }
   ],
   "source": [
    "# 상승만 추출\n",
    "popular3 = []\n",
    "for item in soup.select('#popularItemList > li'):\n",
    "    x = item.select_one('img')['alt']\n",
    "    if x == '상한' or x == '상승':\n",
    "        popular3.append([item.select_one('a').text, item.select_one('img')['alt']])\n",
    "\n",
    "print(popular3)\n"
   ]
  },
  {
   "cell_type": "code",
   "execution_count": null,
   "metadata": {},
   "outputs": [],
   "source": [
    "# 상승만 추출\n",
    "major3 = []\n",
    "for item in soup.select('.lst_major > li'):\n",
    "    x = item.select_one('img')['alt']\n",
    "    if x == '상한' or x == '상승':\n",
    "        major3.append([item.select_one('a').text, item.select_one('img')['alt']])\n",
    "\n",
    "print(major3)"
   ]
  },
  {
   "attachments": {},
   "cell_type": "markdown",
   "metadata": {},
   "source": [
    "### 부동산 정보"
   ]
  },
  {
   "cell_type": "code",
   "execution_count": 103,
   "metadata": {},
   "outputs": [
    {
     "data": {
      "text/plain": [
       "[{'이름': 'H하우스장위',\n",
       "  '보증금': '16000',\n",
       "  '유형': '아파트',\n",
       "  '분양유형': '일반민간임대',\n",
       "  '세대수': '분양 134세대',\n",
       "  '평형': '45㎡~65㎡'},\n",
       " {'이름': '고덕리엔파크2단지 장기전세',\n",
       "  '보증금': '38400',\n",
       "  '유형': '아파트',\n",
       "  '분양유형': '장기전세주택',\n",
       "  '세대수': '분양 1세대',\n",
       "  '평형': '149㎡'},\n",
       " {'이름': '신정이펜하우스3단지 장기전세',\n",
       "  '보증금': '39040',\n",
       "  '유형': '아파트',\n",
       "  '분양유형': '장기전세주택',\n",
       "  '세대수': '분양 1세대',\n",
       "  '평형': '148㎡'},\n",
       " {'이름': '천왕이펜하우스2단지 장기전세',\n",
       "  '보증금': '38240',\n",
       "  '유형': '아파트',\n",
       "  '분양유형': '장기전세주택',\n",
       "  '세대수': '분양 1세대',\n",
       "  '평형': '142㎡'},\n",
       " {'이름': '송파파크데일2단지 장기전세',\n",
       "  '보증금': '45600',\n",
       "  '유형': '아파트',\n",
       "  '분양유형': '장기전세주택',\n",
       "  '세대수': '분양 1세대',\n",
       "  '평형': '150㎡'}]"
      ]
     },
     "execution_count": 103,
     "metadata": {},
     "output_type": "execute_result"
    }
   ],
   "source": [
    "apt = []\n",
    "for item in soup.select('.sale_list li'):\n",
    "    apt.append(\n",
    "        {'이름': item.select_one(\".sale_tit\").text.strip(),\n",
    "         '보증금': item.select(\".detail_info dd.txt\")[0].select_one(\"strong\").text.replace(',',\"\"),\n",
    "         '유형': item.select(\".detail_info dd.txt\")[1].text.split('|')[0],\n",
    "         '분양유형': item.select(\".detail_info dd.txt\")[1].text.split('|')[1],\n",
    "         '세대수': item.select(\".detail_info dd.txt\")[2].text.split('|')[0],\n",
    "         '평형': item.select(\".detail_info dd.txt\")[2].text.split('|')[1]})\n",
    "\n",
    "apt"
   ]
  }
 ],
 "metadata": {
  "kernelspec": {
   "display_name": "Python 3",
   "language": "python",
   "name": "python3"
  },
  "language_info": {
   "name": "python",
   "version": "3.8.7"
  },
  "orig_nbformat": 4
 },
 "nbformat": 4,
 "nbformat_minor": 2
}
