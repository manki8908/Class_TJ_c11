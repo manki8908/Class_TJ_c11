{
 "cells": [
  {
   "attachments": {},
   "cell_type": "markdown",
   "metadata": {},
   "source": [
    "### 싼주유소 찾기 크롤링 및 분석"
   ]
  },
  {
   "cell_type": "code",
   "execution_count": 1,
   "metadata": {},
   "outputs": [],
   "source": [
    "import requests\n",
    "from bs4 import BeautifulSoup\n",
    "import pandas as pd\n",
    "import time\n",
    "from selenium import webdriver\n",
    "from tqdm.notebook import tqdm\n",
    "from selenium.webdriver.common.keys import Keys\n",
    "from selenium.webdriver.common.by import By\n",
    "import re "
   ]
  },
  {
   "cell_type": "code",
   "execution_count": 2,
   "metadata": {},
   "outputs": [],
   "source": [
    "# 메인 홈페이지\n",
    "url='https://www.opinet.co.kr/user/main/mainView.do'\n",
    "driver = webdriver.Chrome()\n",
    "driver.get(url)\n",
    "time.sleep(2)"
   ]
  },
  {
   "cell_type": "code",
   "execution_count": 5,
   "metadata": {},
   "outputs": [],
   "source": [
    "# 싼주유소 찾기 클릭\n",
    "driver.find_element(by=By.CSS_SELECTOR, value='.ic_m1').click()"
   ]
  },
  {
   "cell_type": "code",
   "execution_count": 14,
   "metadata": {},
   "outputs": [],
   "source": [
    "# .. 지역 설정\n",
    "# 시/도\n",
    "metro = driver.find_element(By.XPATH, '//*[@id=\"SIDO_NM0\"]')\n",
    "metro.send_keys('서울')\n",
    "time.sleep(1)\n",
    "\n",
    "# 시/군/구\n",
    "sigungu = driver.find_element(By.XPATH, '//*[@id=\"SIGUNGU_NM0\"]')\n",
    "gu_list = sigungu.find_elements(By.CSS_SELECTOR, 'option')\n",
    "gu_name = [ i.text.strip() for i in gu_list]\n",
    "del gu_name[0]\n",
    "\n",
    "# .. 엑셀 저장버튼 xpath= //*[@id=\"glopopd_excel\"]/span\n",
    "#driver.find_element(By.XPATH, '//*[@id=\"glopopd_excel\"]/span').click()\n"
   ]
  },
  {
   "cell_type": "code",
   "execution_count": 15,
   "metadata": {},
   "outputs": [],
   "source": [
    "# 서울 25개 자치구에 대해 주유소 정보 엑셀 저장\n",
    "for gu in gu_name:\n",
    "    sigungu = driver.find_element(By.XPATH, '//*[@id=\"SIGUNGU_NM0\"]')\n",
    "    time.sleep(3)\n",
    "    sigungu.send_keys(gu)\n",
    "    time.sleep(5)\n",
    "    driver.find_element(By.XPATH, '//*[@id=\"glopopd_excel\"]/span').click()\n"
   ]
  },
  {
   "cell_type": "code",
   "execution_count": 16,
   "metadata": {},
   "outputs": [],
   "source": [
    "driver.close()"
   ]
  }
 ],
 "metadata": {
  "kernelspec": {
   "display_name": "Python 3",
   "language": "python",
   "name": "python3"
  },
  "language_info": {
   "codemirror_mode": {
    "name": "ipython",
    "version": 3
   },
   "file_extension": ".py",
   "mimetype": "text/x-python",
   "name": "python",
   "nbconvert_exporter": "python",
   "pygments_lexer": "ipython3",
   "version": "3.8.7"
  },
  "orig_nbformat": 4
 },
 "nbformat": 4,
 "nbformat_minor": 2
}
