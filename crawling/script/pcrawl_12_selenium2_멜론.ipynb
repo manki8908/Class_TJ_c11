{
 "cells": [
  {
   "attachments": {},
   "cell_type": "markdown",
   "metadata": {},
   "source": [
    "* 셀레늄 + BS 크롤링 vs 셀레늄 크롤링\n"
   ]
  },
  {
   "cell_type": "code",
   "execution_count": 1,
   "metadata": {},
   "outputs": [],
   "source": [
    "import requests\n",
    "from bs4 import BeautifulSoup\n",
    "import pandas as pd\n",
    "import time\n",
    "from selenium import webdriver\n",
    "from selenium.webdriver.common.keys import Keys\n",
    "from selenium.webdriver.common.by import By"
   ]
  },
  {
   "attachments": {},
   "cell_type": "markdown",
   "metadata": {},
   "source": [
    "1. 셀레늄 + bs 크롤링"
   ]
  },
  {
   "cell_type": "code",
   "execution_count": 2,
   "metadata": {},
   "outputs": [],
   "source": [
    "driver = webdriver.Chrome()\n",
    "url = 'https://www.melon.com/chart/index.htm'\n",
    "driver.get(url)\n",
    "html = driver.page_source\n",
    "soup = BeautifulSoup(html, 'html.parser')\n",
    "songs = soup.select('tr')[1:]\n",
    "\n",
    "for song in songs:\n",
    "    title = song.select('div.ellipsis.rank01 > span > a')[0].text\n",
    "    siger = song.select('div.ellipsis.rank02 > a')[0].text\n",
    "    print(title, siger, sep=' | ')"
   ]
  },
  {
   "attachments": {},
   "cell_type": "markdown",
   "metadata": {},
   "source": [
    "2. 셀레늄만"
   ]
  },
  {
   "cell_type": "code",
   "execution_count": 8,
   "metadata": {},
   "outputs": [
    {
     "name": "stdout",
     "output_type": "stream",
     "text": [
      "I AM | IVE (아이브)\n",
      "Kitsch | IVE (아이브)\n",
      "꽃 | 지수 (JISOO)\n",
      "Ditto | NewJeans\n",
      "Hype boy | NewJeans\n",
      "OMG | NewJeans\n",
      "Love Me Like This | NMIXX\n",
      "Like Crazy | 지민\n",
      "Teddy Bear | STAYC(스테이씨)\n",
      "사랑은 늘 도망가 | 임영웅\n",
      "사람 Pt.2 (feat. 아이유) | Agust D\n",
      "사건의 지평선 | 윤하 (YOUNHA)\n",
      "우리들의 블루스 | 임영웅\n",
      "I Don't Think That I Like Her | Charlie Puth\n",
      "심(心) | DK(디셈버)\n",
      "CHRISTIAN | Zior Park\n",
      "다시 만날 수 있을까 | 임영웅\n",
      "파이팅 해야지 (Feat. 이영지) | 부석순 (SEVENTEEN)\n",
      "London Boy | 임영웅\n",
      "Perfume | NCT 도재정\n",
      "Polaroid | 임영웅\n",
      "After LIKE | IVE (아이브)\n",
      "밤이 무서워요 (Lonely Night) | 주주 시크릿\n",
      "이제 나만 믿어요 | 임영웅\n",
      "무지개 | 임영웅\n",
      "아버지 | 임영웅\n",
      "Attention | NewJeans\n",
      "ANTIFRAGILE | LE SSERAFIM (르세라핌)\n",
      "LOVE DIVE | IVE (아이브)\n",
      "A bientot | 임영웅\n",
      "인생찬가 | 임영웅\n",
      "Nostalgia | 우디 (Woody)\n",
      "손이 참 곱던 그대 | 임영웅\n",
      "FRIEND THE END | 볼빨간사춘기\n",
      "Zero | NewJeans\n",
      "사랑해 진짜 | 임영웅\n",
      "연애편지 | 임영웅\n",
      "사랑하기 싫어 | 지아\n",
      "너를 보는게 지친 하루에 | 송하예\n",
      "사랑인가 봐 | 멜로망스\n",
      "NIGHT DANCER | imase\n",
      "보금자리 | 임영웅\n",
      "Kiss | NCT 도재정\n",
      "너의 모든 순간 | 성시경\n",
      "Set Me Free Pt.2 | 지민\n",
      "Dynamite | 방탄소년단\n",
      "Dangerously | Charlie Puth\n",
      "후유증 (Can We Go Back) | NCT 도재정\n",
      "봄날 | 방탄소년단\n",
      "사랑하지 않아서 그랬어 | 임한별\n",
      "건물 사이에 피어난 장미 (Rose Blossom) | H1-KEY (하이키)\n",
      "Cupid | FIFTY FIFTY\n",
      "on the street (with J. Cole) | j-hope\n",
      "Candy | NCT DREAM\n",
      "Dive | NCT 도재정\n",
      "나비무덤 | 포맨 (4MEN)\n",
      "해요 (2022) | #안녕\n",
      "발걸음 | DK(디셈버)\n",
      "Young, Dumb, Stupid | NMIXX\n",
      "Strawberry Sunday | NCT 도재정\n",
      "VIBE (feat. Jimin of BTS) | 태양\n",
      "Monologue | 테이\n",
      "Dreamers [Music from the FIFA World Cup Qatar 2022 Official Soundtrack] (Feat. FIFA Sound) | 정국\n",
      "That's Hilarious | Charlie Puth\n",
      "Butter | 방탄소년단\n",
      "Nxde | (여자)아이들\n",
      "Say I Love You | 우디 (Woody)\n",
      "결국엔 너에게 닿아서 | WSG워너비 (가야G)\n",
      "취중고백 | 김민석 (멜로망스)\n",
      "안녕 (Ordinary) | NCT 도재정\n",
      "STAY | The Kid LAROI\n",
      "Shut Down | BLACKPINK\n",
      "내가 아니라도 | 주호\n",
      "빛이 나는 너에게 | 던 (DAWN)\n",
      "되돌리다 | 먼데이 키즈 (Monday Kiz)\n",
      "새삥 (Prod. ZICO) (Feat. 호미들) | 지코 (ZICO)\n",
      "Permission to Dance | 방탄소년단\n",
      "Pink Venom | BLACKPINK\n",
      "ELEVEN | IVE (아이브)\n",
      "Cookie | NewJeans\n",
      "Chase Love Hard (Feat. 황민현) | 볼빨간사춘기\n",
      "정이라고 하자 (Feat. 10CM) | BIG Naughty (서동현)\n",
      "그라데이션 | 10CM\n",
      "TOMBOY | (여자)아이들\n",
      "다정히 내 이름을 부르면 | 경서예지\n",
      "그때 그 순간 그대로 (그그그) | WSG워너비 (가야G)\n",
      "Say My Name | Say Yes!\n",
      "가질 수 없는 너 | #안녕\n",
      "FEARLESS | LE SSERAFIM (르세라핌)\n",
      "그중에 그대를 만나 | 김호중\n",
      "모든 날, 모든 순간 (Every day, Every Moment) | 폴킴\n",
      "오르트구름 | 윤하 (YOUNHA)\n",
      "That’s Not How This Works (feat. Dan + Shay) | Charlie Puth\n",
      "사랑이라 믿었던 것들은 (Feat. 이수현) | BIG Naughty (서동현)\n",
      "Unholy | Sam Smith\n",
      "Poppy (Korean Ver.) | STAYC(스테이씨)\n",
      "Expectations | Anne-Marie\n",
      "Sugar Rush Ride | 투모로우바이투게더\n",
      "나의 X에게 | 경서\n",
      "Off My Face | Justin Bieber\n"
     ]
    }
   ],
   "source": [
    "url = 'https://www.melon.com/chart/index.htm'\n",
    "driver.get(url)\n",
    "\n",
    "songs = driver.find_elements(\"css selector\", 'tr')[1:]\n",
    "for song in songs:\n",
    "    title = song.find_elements(\"css selector\", 'div.ellipsis.rank01 > span > a')[0].text\n",
    "    siger = song.find_elements(\"css selector\",'div.ellipsis.rank02 > a')[0].text\n",
    "    print(title, siger, sep=' | ')"
   ]
  }
 ],
 "metadata": {
  "kernelspec": {
   "display_name": "Python 3",
   "language": "python",
   "name": "python3"
  },
  "language_info": {
   "codemirror_mode": {
    "name": "ipython",
    "version": 3
   },
   "file_extension": ".py",
   "mimetype": "text/x-python",
   "name": "python",
   "nbconvert_exporter": "python",
   "pygments_lexer": "ipython3",
   "version": "3.8.7"
  },
  "orig_nbformat": 4
 },
 "nbformat": 4,
 "nbformat_minor": 2
}
