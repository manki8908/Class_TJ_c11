{
 "cells": [
  {
   "attachments": {},
   "cell_type": "markdown",
   "metadata": {},
   "source": [
    "소방청\n",
    "* 전국소방기관 검색:서울 왼쪽 소방리스트 페이지 넘어가며 100건 리스트 저장\n",
    "* 관서명, 주소, 전화번호 -> csv로 저장\n",
    "* kakao api로 위경도 값 삽입, (없는 주소는 drop)\n",
    "* 지도에 표시\n",
    "* 페이지를 바꾸는것은 셀레늄으로, bs로 크롤링"
   ]
  },
  {
   "cell_type": "code",
   "execution_count": 1,
   "metadata": {},
   "outputs": [],
   "source": [
    "import numpy as np\n",
    "import pandas as pd\n",
    "import time\n",
    "import re \n",
    "\n",
    "import requests\n",
    "from bs4 import BeautifulSoup\n",
    "from selenium import webdriver\n",
    "from tqdm.notebook import tqdm\n",
    "from selenium.webdriver.common.keys import Keys\n",
    "from selenium.webdriver.common.by import By"
   ]
  },
  {
   "cell_type": "code",
   "execution_count": 77,
   "metadata": {},
   "outputs": [],
   "source": [
    "# 메인 홈페이지\n",
    "url='https://www.nfa.go.kr/nfa/introduce/status/firestationidfo/?searchDistance=10&searchMode=distance&myX=37.5382842&myY=126.9213649&searchKeyword='\n",
    "driver = webdriver.Chrome()\n",
    "driver.get(url)\n",
    "time.sleep(2)"
   ]
  },
  {
   "cell_type": "code",
   "execution_count": 78,
   "metadata": {},
   "outputs": [],
   "source": [
    "# 검색창에 서울 검색\n",
    "# 검색창 ; textarea\n",
    "search_box = driver.find_element(by=By.NAME, value='searchKeyword')  # BY.대문자\n",
    "search_box.send_keys('서울')\n",
    "search_box.send_keys(Keys.ENTER)\n",
    "time.sleep(2)"
   ]
  },
  {
   "cell_type": "code",
   "execution_count": 81,
   "metadata": {},
   "outputs": [
    {
     "name": "stdout",
     "output_type": "stream",
     "text": [
      "동작소방서\n",
      "서울특별시 동작구 여의대방로16길 55(신대방동)\n",
      "02-847-1190\n",
      "서대문소방서\n",
      "서울특별시 서대문구 연희로 182(연희동)\n",
      "02-3144-1190\n",
      "광진소방서\n",
      "서울특별시 광진구 광나루로 480(구의동)\n",
      "02-457-0119\n",
      "송파소방서\n",
      "서울특별시 송파구 오금로51길 56(마천동)\n",
      "02-403-2119\n",
      "양천소방서\n",
      "서울특별시 양천구 목동서로 180(목동)\n",
      "02-2655-1119\n",
      "은평소방서\n",
      "서울특별시 은평구 통일로 962(진관동)\n",
      "02-355-0119\n",
      "노원소방서\n",
      "서울특별시 노원구 한글비석로 1길 8(하계동)\n",
      "02-977-0119\n",
      "종로소방서\n",
      "서울특별시 종로구 종로1길 28(수송동)\n",
      "02-735-6119\n",
      "도봉소방서\n",
      "서울특별시 도봉구 도봉로 666(방학동)\n",
      "02-3492-3437\n",
      "용산소방서\n",
      "서울특별시 용산구 한강대로 167(한강로2가)\n",
      "02-794-0119\n"
     ]
    },
    {
     "ename": "TypeError",
     "evalue": "int() argument must be a string, a bytes-like object or a number, not 'list'",
     "output_type": "error",
     "traceback": [
      "\u001b[1;31m---------------------------------------------------------------------------\u001b[0m",
      "\u001b[1;31mTypeError\u001b[0m                                 Traceback (most recent call last)",
      "Cell \u001b[1;32mIn[81], line 32\u001b[0m\n\u001b[0;32m     29\u001b[0m     next_p_btn1 \u001b[39m=\u001b[39m driver\u001b[39m.\u001b[39mfind_element(by\u001b[39m=\u001b[39mBy\u001b[39m.\u001b[39mCSS_SELECTOR, value\u001b[39m=\u001b[39m\u001b[39m'\u001b[39m\u001b[39m.active\u001b[39m\u001b[39m'\u001b[39m)  \u001b[39m# BY.대문자\u001b[39;00m\n\u001b[0;32m     30\u001b[0m     next_p_btn1\u001b[39m.\u001b[39mclick()\n\u001b[1;32m---> 32\u001b[0m \u001b[39mif\u001b[39;00m \u001b[39mint\u001b[39;49m(p)\u001b[39m%\u001b[39m\u001b[39m2\u001b[39m \u001b[39m==\u001b[39m \u001b[39m0\u001b[39m:\n\u001b[0;32m     33\u001b[0m     next_p_btn2 \u001b[39m=\u001b[39m driver\u001b[39m.\u001b[39mfind_element(by\u001b[39m=\u001b[39mBy\u001b[39m.\u001b[39mCSS_SELECTOR, value\u001b[39m=\u001b[39m\u001b[39m'\u001b[39m\u001b[39m.next_page\u001b[39m\u001b[39m'\u001b[39m)  \u001b[39m# BY.대문자\u001b[39;00m\n\u001b[0;32m     34\u001b[0m     next_p_btn2\u001b[39m.\u001b[39mclick()\n",
      "\u001b[1;31mTypeError\u001b[0m: int() argument must be a string, a bytes-like object or a number, not 'list'"
     ]
    }
   ],
   "source": [
    "# page\n",
    "p = [ str(i+1) for i in range(10) ]\n",
    "line = []\n",
    "\n",
    "\n",
    "for j in range(len(p)):  # page loop\n",
    "\n",
    "    # station 정보 추출\n",
    "    soup = BeautifulSoup(driver.page_source, 'html.parser')\n",
    "    stn = soup.select('div .area-location-list > ul > li')\n",
    "    stn\n",
    "\n",
    "    #for i in [0]:\n",
    "    for i in range(len(stn)):\n",
    "        #print(stn[i])\n",
    "        # 관서명\n",
    "        name = stn[i].select_one('span.title').text.strip()\n",
    "        print(name)\n",
    "        # 주소\n",
    "        addr = stn[i].select_one('address').text.strip()\n",
    "        print(addr)\n",
    "        # 전화번호\n",
    "        phne = stn[i].select_one('span.tel').text.strip()\n",
    "        print(phne)\n",
    "\n",
    "        line.append([name, addr, phne])\n",
    "\n",
    "        # 다음페이지\n",
    "        next_p_btn1 = driver.find_element(by=By.CSS_SELECTOR, value='.active')  # BY.대문자\n",
    "        next_p_btn1.click()\n",
    "\n",
    "    if int(p[j])%2 == 0:\n",
    "        next_p_btn2 = driver.find_element(by=By.CSS_SELECTOR, value='.next_page')  # BY.대문자\n",
    "        next_p_btn2.click()"
   ]
  }
 ],
 "metadata": {
  "kernelspec": {
   "display_name": "Python 3",
   "language": "python",
   "name": "python3"
  },
  "language_info": {
   "codemirror_mode": {
    "name": "ipython",
    "version": 3
   },
   "file_extension": ".py",
   "mimetype": "text/x-python",
   "name": "python",
   "nbconvert_exporter": "python",
   "pygments_lexer": "ipython3",
   "version": "3.8.7"
  },
  "orig_nbformat": 4
 },
 "nbformat": 4,
 "nbformat_minor": 2
}
