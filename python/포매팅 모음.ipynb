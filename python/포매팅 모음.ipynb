{
 "cells": [
  {
   "attachments": {},
   "cell_type": "markdown",
   "metadata": {},
   "source": [
    "ljust(전체자리수) : 왼쪽 정렬 \\\n",
    "rjust(전체자리수) : 오른쪽 정렬"
   ]
  },
  {
   "cell_type": "code",
   "execution_count": null,
   "metadata": {},
   "outputs": [],
   "source": [
    "num1=10; num2=300; num3=50000\n",
    "\n",
    "# 기존\n",
    "print(num1)\n",
    "print(num2)\n",
    "print(num3)\n",
    "print()\n",
    "\n",
    "# 오른쪽 정렬\n",
    "print(str(num1).rjust(5)) # 5칸 자리수 & 오른쪽 정렬\n",
    "print(str(num2).rjust(5))\n",
    "print(str(num3).rjust(5))\n",
    "print()\n",
    "\n",
    "# 왼쪽 정렬\n",
    "print(str(num1).ljust(5))\n",
    "print(str(num2).ljust(5))\n",
    "print(str(num3).ljust(5))\n",
    "\n",
    "\n",
    "\n"
   ]
  },
  {
   "attachments": {},
   "cell_type": "markdown",
   "metadata": {},
   "source": [
    "zfill(전체자리수) : 숫자가 들어가고 남는 부분은 0으로 채워줌"
   ]
  },
  {
   "cell_type": "code",
   "execution_count": null,
   "metadata": {},
   "outputs": [],
   "source": [
    "\n",
    "num1=5; num2=55; num3=555\n",
    "\n",
    "# 은행번호표\n",
    "print(str(num1).zfill(3))\n",
    "print(str(num2).zfill(3))\n",
    "print(str(num3).zfill(3))"
   ]
  },
  {
   "cell_type": "code",
   "execution_count": null,
   "metadata": {},
   "outputs": [],
   "source": [
    "# 빈 자리는 빈공간으로 두고, 오른쪽 정렬을 하되, 총 10자리 공간을 확보\n",
    "print(\"{0: >10}\".format(500))\n",
    "\n",
    "# 양수일 땐 앞에 + 표시, 음수일 땐 앞에 - 표시\n",
    "print(\"{0: >+10}\".format(500))\n",
    "print(\"{0: >+10}\".format(-500))\n",
    "\n",
    "# 왼쪽 정렬하고, 나머지 빈 칸은 _으로 채움\n",
    "print(\"{0:_<10}\".format(500))\n",
    "\n",
    "# 3자리수 마다 콤마를 찍어주기\n",
    "print(\"{0:,}\".format(10000000000))\n",
    "\n",
    "# 3자리수 마다 콤마 & +,-부호도 붙이기\n",
    "print(\"{0:+,}\".format(10000000000))\n",
    "print(\"{0:+,}\".format(-10000000000))\n",
    "\n",
    "# 3자리수 마다 콤마 & +,-부호 & 자릿수 확보한 후 빈 자리는 _로 채우기\n",
    "print(\"{0:_<+30,}\".format(10000000000))\n",
    "\n",
    "# 소수점을 특정 자리수까지만 표시\n",
    "print(\"{0:.6f}\".format(5/3))"
   ]
  }
 ],
 "metadata": {
  "language_info": {
   "name": "python"
  },
  "orig_nbformat": 4
 },
 "nbformat": 4,
 "nbformat_minor": 2
}
