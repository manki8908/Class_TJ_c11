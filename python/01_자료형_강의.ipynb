{
  "nbformat": 4,
  "nbformat_minor": 0,
  "metadata": {
    "colab": {
      "provenance": [],
      "collapsed_sections": [
        "Y8xmLQC6KkE0",
        "l0s482gj0OF4",
        "XQJBSolA6Hmv",
        "I1OEaRl4DEcG",
        "SEH3SMnQHxKi",
        "L0yN4zvhMMDQ",
        "ThtFYU3xQgoY",
        "C0g2tUWqRC6I",
        "ZkET-BeMpNhU"
      ]
    },
    "kernelspec": {
      "name": "python3",
      "display_name": "Python 3"
    },
    "language_info": {
      "name": "python"
    }
  },
  "cells": [
    {
      "cell_type": "markdown",
      "source": [
        "# 1. 변수\n",
        "* 영문 문자와 숫자를 사용할수 있습니다.\n",
        "* 대소문자를 구분합니다.\n",
        "* 문자부터 시작해야 하며 숫자로 시작하면 안됨\n",
        "* _(under_bar)로 시작할수 있음\n",
        "* 특수문자(+, -, *, $..)은 변수로 사용할 수 없음\n",
        "* 파이썬 예약어(if, for, while, and, or)등은  변수이름으로 사용할 수 없음"
      ],
      "metadata": {
        "id": "Y8xmLQC6KkE0"
      }
    },
    {
      "cell_type": "code",
      "execution_count": null,
      "metadata": {
        "id": "5TzIAxmB2aU7"
      },
      "outputs": [],
      "source": [
        "a2 = 3"
      ]
    },
    {
      "cell_type": "code",
      "source": [
        "print(a2)"
      ],
      "metadata": {
        "colab": {
          "base_uri": "https://localhost:8080/"
        },
        "id": "QdnjTf8AH1P2",
        "outputId": "256aef85-1e1b-40b4-992c-27687e7e8ede"
      },
      "execution_count": null,
      "outputs": [
        {
          "output_type": "stream",
          "name": "stdout",
          "text": [
            "3\n"
          ]
        }
      ]
    },
    {
      "cell_type": "code",
      "source": [
        "a = 5\n",
        "A = 6\n",
        "print(a)\n",
        "print(A)"
      ],
      "metadata": {
        "colab": {
          "base_uri": "https://localhost:8080/"
        },
        "id": "MKTlFRyXLfjk",
        "outputId": "305d60bb-bd67-47c3-eaa9-896ae83a9d5a"
      },
      "execution_count": null,
      "outputs": [
        {
          "output_type": "stream",
          "name": "stdout",
          "text": [
            "5\n",
            "6\n"
          ]
        }
      ]
    },
    {
      "cell_type": "code",
      "source": [
        "_ = 7\n",
        "print(_)"
      ],
      "metadata": {
        "colab": {
          "base_uri": "https://localhost:8080/"
        },
        "id": "SYCFVDfBLuIt",
        "outputId": "11313a35-d4e5-4da2-8e60-1647c94f9c54"
      },
      "execution_count": null,
      "outputs": [
        {
          "output_type": "stream",
          "name": "stdout",
          "text": [
            "7\n"
          ]
        }
      ]
    },
    {
      "cell_type": "markdown",
      "source": [
        "a를 출력하는 코드다"
      ],
      "metadata": {
        "id": "HSfDYJ7WMVZc"
      }
    },
    {
      "cell_type": "code",
      "source": [
        "a =  8 # a를 변수에 넣어준다 \n",
        "# a를 출력해주는 코드다\n",
        "print(a)\n",
        "# print(A) # ctrl + / 단축키"
      ],
      "metadata": {
        "colab": {
          "base_uri": "https://localhost:8080/"
        },
        "id": "W-6HwtahL8Jz",
        "outputId": "5b0d3064-502f-4fbb-bcdc-0a2453976d39"
      },
      "execution_count": null,
      "outputs": [
        {
          "output_type": "stream",
          "name": "stdout",
          "text": [
            "8\n"
          ]
        }
      ]
    },
    {
      "cell_type": "code",
      "source": [
        "# 예약어는 변수로 사용할수 없음\n",
        "if = 1\n",
        "print(if)"
      ],
      "metadata": {
        "colab": {
          "base_uri": "https://localhost:8080/",
          "height": 136
        },
        "id": "sHKKZvSUNft2",
        "outputId": "09dc2c5a-3340-45d2-d7cc-d1c7fec422eb"
      },
      "execution_count": null,
      "outputs": [
        {
          "output_type": "error",
          "ename": "SyntaxError",
          "evalue": "ignored",
          "traceback": [
            "\u001b[0;36m  File \u001b[0;32m\"<ipython-input-33-69937cdcf594>\"\u001b[0;36m, line \u001b[0;32m2\u001b[0m\n\u001b[0;31m    if = 1\u001b[0m\n\u001b[0m       ^\u001b[0m\n\u001b[0;31mSyntaxError\u001b[0m\u001b[0;31m:\u001b[0m invalid syntax\n"
          ]
        }
      ]
    },
    {
      "cell_type": "code",
      "source": [
        "print = 1\n",
        "print(print)"
      ],
      "metadata": {
        "colab": {
          "base_uri": "https://localhost:8080/",
          "height": 191
        },
        "id": "plSGh0ajNoxF",
        "outputId": "3a190174-1513-4c22-e695-5f36960051c9"
      },
      "execution_count": null,
      "outputs": [
        {
          "output_type": "error",
          "ename": "TypeError",
          "evalue": "ignored",
          "traceback": [
            "\u001b[0;31m---------------------------------------------------------------------------\u001b[0m",
            "\u001b[0;31mTypeError\u001b[0m                                 Traceback (most recent call last)",
            "\u001b[0;32m<ipython-input-34-7ed55c8f7324>\u001b[0m in \u001b[0;36m<module>\u001b[0;34m\u001b[0m\n\u001b[1;32m      1\u001b[0m \u001b[0mprint\u001b[0m \u001b[0;34m=\u001b[0m \u001b[0;36m1\u001b[0m\u001b[0;34m\u001b[0m\u001b[0;34m\u001b[0m\u001b[0m\n\u001b[0;32m----> 2\u001b[0;31m \u001b[0mprint\u001b[0m\u001b[0;34m(\u001b[0m\u001b[0mprint\u001b[0m\u001b[0;34m)\u001b[0m\u001b[0;34m\u001b[0m\u001b[0;34m\u001b[0m\u001b[0m\n\u001b[0m",
            "\u001b[0;31mTypeError\u001b[0m: 'int' object is not callable"
          ]
        }
      ]
    },
    {
      "cell_type": "code",
      "source": [
        "import keyword\n",
        "python_keyword = keyword.kwlist\n",
        "print(python_keyword)\n",
        "len(python_keyword)"
      ],
      "metadata": {
        "colab": {
          "base_uri": "https://localhost:8080/"
        },
        "id": "92a_OFXENx2V",
        "outputId": "23baf89f-0061-416b-a551-c8e64911b689"
      },
      "execution_count": null,
      "outputs": [
        {
          "output_type": "stream",
          "name": "stdout",
          "text": [
            "['False', 'None', 'True', 'and', 'as', 'assert', 'async', 'await', 'break', 'class', 'continue', 'def', 'del', 'elif', 'else', 'except', 'finally', 'for', 'from', 'global', 'if', 'import', 'in', 'is', 'lambda', 'nonlocal', 'not', 'or', 'pass', 'raise', 'return', 'try', 'while', 'with', 'yield']\n"
          ]
        },
        {
          "output_type": "execute_result",
          "data": {
            "text/plain": [
              "35"
            ]
          },
          "metadata": {},
          "execution_count": 2
        }
      ]
    },
    {
      "cell_type": "code",
      "source": [
        "# id 는 주소값을 나타내는 함수\n",
        "var1 = \"Hello python\"\n",
        "print(var1)\n",
        "print(id(var1))"
      ],
      "metadata": {
        "id": "DMoky0hrN-RL",
        "colab": {
          "base_uri": "https://localhost:8080/"
        },
        "outputId": "ec5946a2-97d4-4c35-901a-f54dfe1dddf2"
      },
      "execution_count": 1,
      "outputs": [
        {
          "output_type": "stream",
          "name": "stdout",
          "text": [
            "Hello python\n",
            "139850674155376\n"
          ]
        }
      ]
    },
    {
      "cell_type": "code",
      "source": [
        "var1 = 100\n",
        "print(var1)\n",
        "print(id(var1))"
      ],
      "metadata": {
        "colab": {
          "base_uri": "https://localhost:8080/"
        },
        "id": "pQuLUCOHjcsb",
        "outputId": "3d6da254-242d-4881-e34d-628179047c46"
      },
      "execution_count": 2,
      "outputs": [
        {
          "output_type": "stream",
          "name": "stdout",
          "text": [
            "100\n",
            "9796256\n"
          ]
        }
      ]
    },
    {
      "cell_type": "code",
      "source": [
        "var2 = 150.25\n",
        "print(var2)\n",
        "print(id(var2))"
      ],
      "metadata": {
        "colab": {
          "base_uri": "https://localhost:8080/"
        },
        "id": "5lUeaPwqj3H7",
        "outputId": "8f9fbfb3-5148-47fa-b258-54d45d0d2448"
      },
      "execution_count": 3,
      "outputs": [
        {
          "output_type": "stream",
          "name": "stdout",
          "text": [
            "150.25\n",
            "139850645215472\n"
          ]
        }
      ]
    },
    {
      "cell_type": "markdown",
      "source": [
        "* print() 함수의 다양한 사용"
      ],
      "metadata": {
        "id": "CYG0IGF6kRd0"
      }
    },
    {
      "cell_type": "code",
      "source": [
        "# 출력 print(value1, value2...)\n",
        "print('Hello world')\n",
        "print('Hello', 'world')"
      ],
      "metadata": {
        "colab": {
          "base_uri": "https://localhost:8080/"
        },
        "id": "Ul-_8JhGkVrv",
        "outputId": "77a422dd-7e1b-4a0d-ab64-27048ce515d7"
      },
      "execution_count": 4,
      "outputs": [
        {
          "output_type": "stream",
          "name": "stdout",
          "text": [
            "Hello world\n",
            "Hello world\n"
          ]
        }
      ]
    },
    {
      "cell_type": "code",
      "source": [
        "print('홍길동', '김철수', sep=',')"
      ],
      "metadata": {
        "colab": {
          "base_uri": "https://localhost:8080/"
        },
        "id": "BZpkbdXOkyoz",
        "outputId": "58906d8a-8c83-4b27-ed99-e4b55e6b8b24"
      },
      "execution_count": 10,
      "outputs": [
        {
          "output_type": "stream",
          "name": "stdout",
          "text": [
            "홍길동,김철수\n"
          ]
        }
      ]
    },
    {
      "cell_type": "code",
      "source": [
        "print('1+1=', 1+1)\n",
        "print('1+1', 1+1, sep='=')"
      ],
      "metadata": {
        "colab": {
          "base_uri": "https://localhost:8080/"
        },
        "id": "KWRHLJs5lhdd",
        "outputId": "e2030ef0-89a8-4cf8-864e-965e6e4a0b85"
      },
      "execution_count": 14,
      "outputs": [
        {
          "output_type": "stream",
          "name": "stdout",
          "text": [
            "1+1= 2\n",
            "1+1=2\n"
          ]
        }
      ]
    },
    {
      "cell_type": "code",
      "source": [
        "food = \"python's favorate food is perl\"\n",
        "# food1 = 'python's favorate food is perl'\n",
        "food2 = 'python\\'s favorate food is perl'\n",
        "print(food)\n",
        "# print(food1)\n",
        "print(food2)"
      ],
      "metadata": {
        "colab": {
          "base_uri": "https://localhost:8080/"
        },
        "id": "h3EjoLIXmmYN",
        "outputId": "8f72bd31-50db-4ee0-838a-0ffbd2e5a4ae"
      },
      "execution_count": 23,
      "outputs": [
        {
          "output_type": "stream",
          "name": "stdout",
          "text": [
            "python's favorate food is perl\n",
            "python's favorate food is perl\n"
          ]
        }
      ]
    },
    {
      "cell_type": "code",
      "source": [
        "say = 'python is very easy. he says'\n",
        "say1 = '\"python is very easy\". he says'\n",
        "say2 = '\\'python is very easy\\'. he says'\n",
        "say3 = \"\\\"python is very easy\\\". he says\"\n",
        "print(say)\n",
        "print(say1)\n",
        "print(say2)\n",
        "print(say3)"
      ],
      "metadata": {
        "colab": {
          "base_uri": "https://localhost:8080/"
        },
        "id": "mI70k9BcnRdM",
        "outputId": "29164397-488f-492a-9dc7-e899da7a9b2b"
      },
      "execution_count": 24,
      "outputs": [
        {
          "output_type": "stream",
          "name": "stdout",
          "text": [
            "python is very easy. he says\n",
            "\"python is very easy\". he says\n",
            "'python is very easy'. he says\n",
            "\"python is very easy\". he says\n"
          ]
        }
      ]
    },
    {
      "cell_type": "code",
      "source": [
        "# type()\n",
        "var3 = \"Hello python\"\n",
        "print(var3)\n",
        "print(type(var3))\n",
        "# str = string = 문자열"
      ],
      "metadata": {
        "colab": {
          "base_uri": "https://localhost:8080/"
        },
        "id": "fOE8pzwRo8b-",
        "outputId": "cd3ebd00-3fea-466d-84ca-b2d371dee28e"
      },
      "execution_count": 26,
      "outputs": [
        {
          "output_type": "stream",
          "name": "stdout",
          "text": [
            "Hello python\n",
            "<class 'str'>\n"
          ]
        }
      ]
    },
    {
      "cell_type": "code",
      "source": [
        "var4 = 100\n",
        "print(var4)\n",
        "print(type(var4)) #int = integer = 정수"
      ],
      "metadata": {
        "colab": {
          "base_uri": "https://localhost:8080/"
        },
        "id": "pb2HEIwAqeFw",
        "outputId": "a1b3966c-8841-40a4-c103-9f047e7ba51b"
      },
      "execution_count": 29,
      "outputs": [
        {
          "output_type": "stream",
          "name": "stdout",
          "text": [
            "100\n",
            "<class 'int'>\n"
          ]
        }
      ]
    },
    {
      "cell_type": "code",
      "source": [
        "var5 = 150.3\n",
        "print(var5)\n",
        "print(type(var5)) #float = 실수"
      ],
      "metadata": {
        "colab": {
          "base_uri": "https://localhost:8080/"
        },
        "id": "fp8f-_YnqnWT",
        "outputId": "596b5175-d7d7-4ec9-ccce-c39c0501336c"
      },
      "execution_count": 30,
      "outputs": [
        {
          "output_type": "stream",
          "name": "stdout",
          "text": [
            "150.3\n",
            "<class 'float'>\n"
          ]
        }
      ]
    },
    {
      "cell_type": "code",
      "source": [
        "var6 = True\n",
        "print(var6)\n",
        "print(type(var6)) #boolean = 참 또는 거짓"
      ],
      "metadata": {
        "colab": {
          "base_uri": "https://localhost:8080/"
        },
        "id": "mEwzcNE0u0e3",
        "outputId": "331ba74b-0db7-4bf9-c526-dc2dd3a48b8b"
      },
      "execution_count": 33,
      "outputs": [
        {
          "output_type": "stream",
          "name": "stdout",
          "text": [
            "True\n",
            "<class 'bool'>\n"
          ]
        }
      ]
    },
    {
      "cell_type": "code",
      "source": [
        "var6 = False\n",
        "print(var6)\n",
        "print(type(var6))"
      ],
      "metadata": {
        "colab": {
          "base_uri": "https://localhost:8080/"
        },
        "id": "s6Vo9dc9u_pH",
        "outputId": "dcf34602-fb02-4699-b812-6ef78bdf67f7"
      },
      "execution_count": 32,
      "outputs": [
        {
          "output_type": "stream",
          "name": "stdout",
          "text": [
            "False\n",
            "<class 'bool'>\n"
          ]
        }
      ]
    },
    {
      "cell_type": "markdown",
      "source": [
        "자료형 변환"
      ],
      "metadata": {
        "id": "gT041gotvRlt"
      }
    },
    {
      "cell_type": "code",
      "source": [
        "a = int(10.9)\n",
        "print(a)\n",
        "print(type(a))"
      ],
      "metadata": {
        "colab": {
          "base_uri": "https://localhost:8080/"
        },
        "id": "B9ootbJhvRJn",
        "outputId": "9f5a72dc-0fee-495f-ec6b-b85749042d75"
      },
      "execution_count": 35,
      "outputs": [
        {
          "output_type": "stream",
          "name": "stdout",
          "text": [
            "10\n",
            "<class 'int'>\n"
          ]
        }
      ]
    },
    {
      "cell_type": "code",
      "source": [
        "b = float(20)\n",
        "print(b)\n",
        "print(type(b))"
      ],
      "metadata": {
        "colab": {
          "base_uri": "https://localhost:8080/"
        },
        "id": "cqIOPXuzwHu_",
        "outputId": "9e2c6b4a-e8de-47d3-f0ef-466f9bd48ba0"
      },
      "execution_count": 36,
      "outputs": [
        {
          "output_type": "stream",
          "name": "stdout",
          "text": [
            "20.0\n",
            "<class 'float'>\n"
          ]
        }
      ]
    },
    {
      "cell_type": "code",
      "source": [
        "print(type(True))\n",
        "print(int(True))"
      ],
      "metadata": {
        "colab": {
          "base_uri": "https://localhost:8080/"
        },
        "id": "aZkczZ43wgwo",
        "outputId": "ca7e51a4-02aa-4d16-f2fb-221741c70a2e"
      },
      "execution_count": 38,
      "outputs": [
        {
          "output_type": "stream",
          "name": "stdout",
          "text": [
            "<class 'bool'>\n",
            "1\n"
          ]
        }
      ]
    },
    {
      "cell_type": "code",
      "source": [
        "print(type(True))\n",
        "print(int(True))\n",
        "print(int(False))\n"
      ],
      "metadata": {
        "colab": {
          "base_uri": "https://localhost:8080/"
        },
        "id": "_Ftr7C5wyefe",
        "outputId": "08021812-5a66-4918-bb58-df9ff795cb38"
      },
      "execution_count": 40,
      "outputs": [
        {
          "output_type": "stream",
          "name": "stdout",
          "text": [
            "<class 'bool'>\n",
            "1\n",
            "0\n"
          ]
        }
      ]
    },
    {
      "cell_type": "code",
      "source": [
        "st = \"10\"\n",
        "print(type(st))\n",
        "print(int(st))"
      ],
      "metadata": {
        "colab": {
          "base_uri": "https://localhost:8080/"
        },
        "id": "q3Q2LPRQyhJu",
        "outputId": "5c674cc9-eb78-400f-9017-973c844f3d38"
      },
      "execution_count": 42,
      "outputs": [
        {
          "output_type": "stream",
          "name": "stdout",
          "text": [
            "<class 'str'>\n",
            "10\n"
          ]
        }
      ]
    },
    {
      "cell_type": "code",
      "source": [
        "st1 = '10.5' #2번 형변환은 안됨\n",
        "print(type(st1))\n",
        "st2 = float(st1)\n",
        "print(int(st2))"
      ],
      "metadata": {
        "colab": {
          "base_uri": "https://localhost:8080/"
        },
        "id": "tly5As3Gy3s2",
        "outputId": "25d7bdc3-d77b-4cdd-c1bc-180a15007bab"
      },
      "execution_count": 46,
      "outputs": [
        {
          "output_type": "stream",
          "name": "stdout",
          "text": [
            "<class 'str'>\n",
            "10\n"
          ]
        }
      ]
    },
    {
      "cell_type": "code",
      "source": [
        "c = 100.22\n",
        "print(type(str(c)))"
      ],
      "metadata": {
        "colab": {
          "base_uri": "https://localhost:8080/"
        },
        "id": "6ioCt8bOzTnt",
        "outputId": "bf9ea971-2c24-454e-eb1c-3cf7d5bf186d"
      },
      "execution_count": 49,
      "outputs": [
        {
          "output_type": "stream",
          "name": "stdout",
          "text": [
            "<class 'str'>\n"
          ]
        }
      ]
    },
    {
      "cell_type": "markdown",
      "source": [
        "# 연산자"
      ],
      "metadata": {
        "id": "l0s482gj0OF4"
      }
    },
    {
      "cell_type": "code",
      "source": [
        "''' 연산자(operator)\n",
        "1. 산술연산자\n",
        "2. 관계연산자\n",
        "3. 논리연산자\n",
        "4. 대입연산자\n",
        "'''\n"
      ],
      "metadata": {
        "colab": {
          "base_uri": "https://localhost:8080/",
          "height": 35
        },
        "id": "gb8efo9y0MTP",
        "outputId": "62e982fc-4181-4efd-c381-5332c9911f35"
      },
      "execution_count": 68,
      "outputs": [
        {
          "output_type": "execute_result",
          "data": {
            "text/plain": [
              "' 연산자(operator)\\n1. 산술연산자\\n2. 관계연산자\\n3. 논리연산자\\n4. 대입연산자\\n'"
            ],
            "application/vnd.google.colaboratory.intrinsic+json": {
              "type": "string"
            }
          },
          "metadata": {},
          "execution_count": 68
        }
      ]
    },
    {
      "cell_type": "code",
      "source": [
        "a = ''' 연산자(operator)\n",
        "1. 산술연산자\n",
        "2. 관계연산자\n",
        "3. 논리연산자\n",
        "4. 대입연산자\n",
        "'''\n",
        "print(a)"
      ],
      "metadata": {
        "colab": {
          "base_uri": "https://localhost:8080/"
        },
        "id": "DiSu0HN_BSnF",
        "outputId": "4fc8cf36-6057-4c6b-e881-79da01cec95b"
      },
      "execution_count": 69,
      "outputs": [
        {
          "output_type": "stream",
          "name": "stdout",
          "text": [
            " 연산자(operator)\n",
            "1. 산술연산자\n",
            "2. 관계연산자\n",
            "3. 논리연산자\n",
            "4. 대입연산자\n",
            "\n"
          ]
        }
      ]
    },
    {
      "cell_type": "code",
      "source": [
        "#1.산술연산자\n",
        "num1 = 100\n",
        "num2 = 20\n",
        "add1 = num1 + num2\n",
        "print(add1)\n",
        "print(type(add1)) "
      ],
      "metadata": {
        "colab": {
          "base_uri": "https://localhost:8080/"
        },
        "id": "VAPyeT8v0002",
        "outputId": "9c8b1a65-bc3d-4fa3-9ae4-546d044e25ab"
      },
      "execution_count": 57,
      "outputs": [
        {
          "output_type": "stream",
          "name": "stdout",
          "text": [
            "120\n",
            "<class 'int'>\n"
          ]
        }
      ]
    },
    {
      "cell_type": "code",
      "source": [
        "sub = num1 - num2\n",
        "print(sub)"
      ],
      "metadata": {
        "colab": {
          "base_uri": "https://localhost:8080/"
        },
        "id": "dY-7Gt8y1XWW",
        "outputId": "8e9136b1-4e03-4c7e-e7bc-17bb6d16db8c"
      },
      "execution_count": 53,
      "outputs": [
        {
          "output_type": "stream",
          "name": "stdout",
          "text": [
            "80\n"
          ]
        }
      ]
    },
    {
      "cell_type": "code",
      "source": [
        "mul = num1 * num2\n",
        "print(mul)"
      ],
      "metadata": {
        "colab": {
          "base_uri": "https://localhost:8080/"
        },
        "id": "rhsTIJHu1iJn",
        "outputId": "e035dfcd-ba34-41c5-e4dd-cd22ba8314fe"
      },
      "execution_count": 54,
      "outputs": [
        {
          "output_type": "stream",
          "name": "stdout",
          "text": [
            "2000\n"
          ]
        }
      ]
    },
    {
      "cell_type": "code",
      "source": [
        "div1 = num1 / num2 #몫을 실수로 반환\n",
        "print(div1)"
      ],
      "metadata": {
        "colab": {
          "base_uri": "https://localhost:8080/"
        },
        "id": "v_rqFy6v1rO3",
        "outputId": "8d882e71-545b-4459-ee77-259768aa5449"
      },
      "execution_count": 59,
      "outputs": [
        {
          "output_type": "stream",
          "name": "stdout",
          "text": [
            "5.0\n"
          ]
        }
      ]
    },
    {
      "cell_type": "code",
      "source": [
        "div2 = num1 // num2 # 몫을 정수만 반환\n",
        "print(div2)"
      ],
      "metadata": {
        "colab": {
          "base_uri": "https://localhost:8080/"
        },
        "id": "XujqguF-2hNv",
        "outputId": "1e282d9a-abcf-4f67-a16c-ebf372f72a4e"
      },
      "execution_count": 60,
      "outputs": [
        {
          "output_type": "stream",
          "name": "stdout",
          "text": [
            "5\n"
          ]
        }
      ]
    },
    {
      "cell_type": "code",
      "source": [
        "num3 = 7\n",
        "num4 = 4\n",
        "div3 = num3 % num4 #나머지\n",
        "print(div3)"
      ],
      "metadata": {
        "colab": {
          "base_uri": "https://localhost:8080/"
        },
        "id": "Fshw1-Fx1wZx",
        "outputId": "eb4a596b-cf36-4968-d4d3-276ae9d37af8"
      },
      "execution_count": 62,
      "outputs": [
        {
          "output_type": "stream",
          "name": "stdout",
          "text": [
            "3\n"
          ]
        }
      ]
    },
    {
      "cell_type": "code",
      "source": [
        "sq = num4 ** 3\n",
        "sq2 = num3 ** 2\n",
        "print(sq)\n",
        "print(sq2)"
      ],
      "metadata": {
        "colab": {
          "base_uri": "https://localhost:8080/"
        },
        "id": "YG-MlCrm3J1A",
        "outputId": "bdd7cebb-a876-4492-9897-88a4cb2cbc36"
      },
      "execution_count": 65,
      "outputs": [
        {
          "output_type": "stream",
          "name": "stdout",
          "text": [
            "64\n",
            "49\n"
          ]
        }
      ]
    },
    {
      "cell_type": "markdown",
      "source": [
        "# 관계연산자 "
      ],
      "metadata": {
        "id": "XQJBSolA6Hmv"
      }
    },
    {
      "cell_type": "code",
      "source": [
        "# (1) 동등비교\n",
        "bool_result = num1 == num2\n",
        "print(bool_result)"
      ],
      "metadata": {
        "colab": {
          "base_uri": "https://localhost:8080/"
        },
        "id": "h9ZBK1Qt6G1w",
        "outputId": "1e9e11c1-2552-411c-d592-e1580bba5213"
      },
      "execution_count": 66,
      "outputs": [
        {
          "output_type": "stream",
          "name": "stdout",
          "text": [
            "False\n"
          ]
        }
      ]
    },
    {
      "cell_type": "code",
      "source": [
        "bool_result2 = num1 != num2\n",
        "print(bool_result2)"
      ],
      "metadata": {
        "colab": {
          "base_uri": "https://localhost:8080/"
        },
        "id": "DboJl5Ed6k9Y",
        "outputId": "628c0b51-bd9c-429f-b923-a5bb53743186"
      },
      "execution_count": 67,
      "outputs": [
        {
          "output_type": "stream",
          "name": "stdout",
          "text": [
            "True\n"
          ]
        }
      ]
    },
    {
      "cell_type": "code",
      "source": [
        "#(2)크기비교\n",
        "num1 = 100\n",
        "num2 = 20\n",
        "bool_result3 = num1 > num2\n",
        "print(bool_result3)"
      ],
      "metadata": {
        "id": "r9C9c17_7Exo"
      },
      "execution_count": null,
      "outputs": []
    },
    {
      "cell_type": "code",
      "source": [
        "# 5. 시가총액 298조 , 현재가 50,000, per 15.79 을 변수에 넣어서 타입을 찍어보기"
      ],
      "metadata": {
        "id": "DX4n2-IsBgVc"
      },
      "execution_count": null,
      "outputs": []
    },
    {
      "cell_type": "code",
      "source": [
        "시가총액 = 298000000000000\n",
        "현재가 = 50000\n",
        "per = 15.79\n",
        "print(시가총액, type(시가총액))\n",
        "print(현재가, type(현재가))\n",
        "print(per, type(per))"
      ],
      "metadata": {
        "colab": {
          "base_uri": "https://localhost:8080/"
        },
        "id": "Z0BgoFnEBhTk",
        "outputId": "6170d2f5-4a4b-4db0-f87f-422ea5b19f2e"
      },
      "execution_count": 70,
      "outputs": [
        {
          "output_type": "stream",
          "name": "stdout",
          "text": [
            "298000000000000 <class 'int'>\n",
            "50000 <class 'int'>\n",
            "15.79 <class 'float'>\n"
          ]
        }
      ]
    },
    {
      "cell_type": "code",
      "source": [
        "# 6. 에이컨이 월 48,584원에 무이자 36개월의 조건으로 홈쇼핑에서 판매되고 있습니다. \n",
        "# 총 금액은 계산한 후 이를 화면에 출력해보세요. (변수사용하기)\n",
        "월 = 48584\n",
        "총금액 = 월 * 36\n",
        "print(총금액)"
      ],
      "metadata": {
        "colab": {
          "base_uri": "https://localhost:8080/"
        },
        "id": "sUXY5NwkB288",
        "outputId": "b08578f9-cdc9-424d-992b-de160af4d576"
      },
      "execution_count": 73,
      "outputs": [
        {
          "output_type": "stream",
          "name": "stdout",
          "text": [
            "1749024\n"
          ]
        }
      ]
    },
    {
      "cell_type": "markdown",
      "source": [
        "# 논리연산자"
      ],
      "metadata": {
        "id": "I1OEaRl4DEcG"
      }
    },
    {
      "cell_type": "code",
      "source": [
        "num1 = 100\n",
        "num2 = 20\n",
        "log_result = num1 >= 50 and num2 <= 10 # 참 거짓\n",
        "print(log_result)"
      ],
      "metadata": {
        "colab": {
          "base_uri": "https://localhost:8080/"
        },
        "id": "TOvtpxPuDF5Z",
        "outputId": "5608df63-dca5-4693-a8bb-814c3ff8d281"
      },
      "execution_count": 75,
      "outputs": [
        {
          "output_type": "stream",
          "name": "stdout",
          "text": [
            "False\n"
          ]
        }
      ]
    },
    {
      "cell_type": "code",
      "source": [
        "log_result2 = num1 <= 50 and num2 >= 10 # 거짓 참\n",
        "print(log_result2)"
      ],
      "metadata": {
        "colab": {
          "base_uri": "https://localhost:8080/"
        },
        "id": "QbCM8DRTD_Rk",
        "outputId": "70eac12e-804f-45cc-a731-4dab9aec832f"
      },
      "execution_count": 77,
      "outputs": [
        {
          "output_type": "stream",
          "name": "stdout",
          "text": [
            "False\n"
          ]
        }
      ]
    },
    {
      "cell_type": "code",
      "source": [
        "log_result3 = num1 >= 50 and num2 >= 10 # 참 and 참\n",
        "print(log_result3)"
      ],
      "metadata": {
        "colab": {
          "base_uri": "https://localhost:8080/"
        },
        "id": "eTY2SLiMEHZB",
        "outputId": "37efe433-dd44-46fb-f474-7dfebcbf341d"
      },
      "execution_count": 79,
      "outputs": [
        {
          "output_type": "stream",
          "name": "stdout",
          "text": [
            "True\n"
          ]
        }
      ]
    },
    {
      "cell_type": "code",
      "source": [
        "log_result4 = num1 <= 50 and num2 <= 10 # 거짓 and 거짓\n",
        "print(log_result4)"
      ],
      "metadata": {
        "colab": {
          "base_uri": "https://localhost:8080/"
        },
        "id": "U8RbIpgFESX3",
        "outputId": "7dc5532c-5a75-42ce-e164-67f7ce7b956e"
      },
      "execution_count": 80,
      "outputs": [
        {
          "output_type": "stream",
          "name": "stdout",
          "text": [
            "False\n"
          ]
        }
      ]
    },
    {
      "cell_type": "code",
      "source": [
        "# or 조건\n",
        "num1 = 100\n",
        "num2 = 20\n",
        "log_result5 = num1 >= 50 or num2 <= 10 # 참 or 거짓\n",
        "print(log_result5)"
      ],
      "metadata": {
        "colab": {
          "base_uri": "https://localhost:8080/"
        },
        "outputId": "ac984ede-b007-4919-d0fd-fa34fb7cfcb3",
        "id": "jyHChG7ZEgNN"
      },
      "execution_count": 81,
      "outputs": [
        {
          "output_type": "stream",
          "name": "stdout",
          "text": [
            "True\n"
          ]
        }
      ]
    },
    {
      "cell_type": "code",
      "source": [
        "log_result6 = num1 <= 50 or num2 >= 10 # 거짓 참\n",
        "print(log_result6)"
      ],
      "metadata": {
        "colab": {
          "base_uri": "https://localhost:8080/"
        },
        "outputId": "8128ca98-e913-45db-ec38-c184b10bdfca",
        "id": "2LXRlwdoEgNO"
      },
      "execution_count": 82,
      "outputs": [
        {
          "output_type": "stream",
          "name": "stdout",
          "text": [
            "True\n"
          ]
        }
      ]
    },
    {
      "cell_type": "code",
      "source": [
        "log_result7 = num1 >= 50 or num2 >= 10 # 참 and 참\n",
        "print(log_result7)"
      ],
      "metadata": {
        "colab": {
          "base_uri": "https://localhost:8080/"
        },
        "outputId": "e23bbb0f-51f4-45cb-dae8-8232fac27b03",
        "id": "F4qGn2MzEgNO"
      },
      "execution_count": 83,
      "outputs": [
        {
          "output_type": "stream",
          "name": "stdout",
          "text": [
            "True\n"
          ]
        }
      ]
    },
    {
      "cell_type": "code",
      "source": [
        "log_result8 = num1 <= 50 or num2 <= 10 # 거짓 and 거짓\n",
        "print(log_result8)"
      ],
      "metadata": {
        "colab": {
          "base_uri": "https://localhost:8080/"
        },
        "outputId": "e7dd5201-4062-4639-94be-45563e548e7f",
        "id": "7_Q0esA2EgNO"
      },
      "execution_count": 84,
      "outputs": [
        {
          "output_type": "stream",
          "name": "stdout",
          "text": [
            "False\n"
          ]
        }
      ]
    },
    {
      "cell_type": "code",
      "source": [
        "log_result9 = not(num1 >= 50)\n",
        "print(log_result9)"
      ],
      "metadata": {
        "colab": {
          "base_uri": "https://localhost:8080/"
        },
        "id": "nize_yT3FFyW",
        "outputId": "ee06c8ec-4524-42a0-bf74-9dd98330f615"
      },
      "execution_count": 87,
      "outputs": [
        {
          "output_type": "stream",
          "name": "stdout",
          "text": [
            "False\n"
          ]
        }
      ]
    },
    {
      "cell_type": "markdown",
      "source": [
        "# 대입연산자"
      ],
      "metadata": {
        "id": "SEH3SMnQHxKi"
      }
    },
    {
      "cell_type": "code",
      "source": [
        "# 1)변수에 값을 할당(=)\n",
        "i = tot = 10\n",
        "print(i, tot)"
      ],
      "metadata": {
        "colab": {
          "base_uri": "https://localhost:8080/"
        },
        "id": "mnoIUfUMHykE",
        "outputId": "c303c2e7-4e8e-43eb-81ad-df5ed881073c"
      },
      "execution_count": 88,
      "outputs": [
        {
          "output_type": "stream",
          "name": "stdout",
          "text": [
            "10 10\n"
          ]
        }
      ]
    },
    {
      "cell_type": "code",
      "source": [
        "i = i + 1 \n",
        "print(i)"
      ],
      "metadata": {
        "colab": {
          "base_uri": "https://localhost:8080/"
        },
        "id": "cJXzeOMMJkcH",
        "outputId": "3782b453-4381-42d6-adb3-911c098576a9"
      },
      "execution_count": 91,
      "outputs": [
        {
          "output_type": "stream",
          "name": "stdout",
          "text": [
            "11\n"
          ]
        }
      ]
    },
    {
      "cell_type": "code",
      "source": [
        "i += 1\n",
        "print(i)"
      ],
      "metadata": {
        "colab": {
          "base_uri": "https://localhost:8080/"
        },
        "id": "LLu3MUYLJxo2",
        "outputId": "b4edfa79-9d6f-4e82-ca9e-ef634be8c653"
      },
      "execution_count": 92,
      "outputs": [
        {
          "output_type": "stream",
          "name": "stdout",
          "text": [
            "12\n"
          ]
        }
      ]
    },
    {
      "cell_type": "code",
      "source": [
        "tot += i # tot = tot + i \n",
        "print(tot) #22"
      ],
      "metadata": {
        "colab": {
          "base_uri": "https://localhost:8080/"
        },
        "id": "QR0Jy0yiJ8aO",
        "outputId": "e43a10e5-f109-4897-8dcb-04cad5fe5064"
      },
      "execution_count": 93,
      "outputs": [
        {
          "output_type": "stream",
          "name": "stdout",
          "text": [
            "22\n"
          ]
        }
      ]
    },
    {
      "cell_type": "code",
      "source": [
        "v1, v2 = 100, 200\n",
        "print(v1)\n",
        "print(v2)"
      ],
      "metadata": {
        "colab": {
          "base_uri": "https://localhost:8080/"
        },
        "id": "lLRoI0nJKVOX",
        "outputId": "e415fa4e-a50e-4ba1-b667-046d9bb217be"
      },
      "execution_count": 94,
      "outputs": [
        {
          "output_type": "stream",
          "name": "stdout",
          "text": [
            "100\n",
            "200\n"
          ]
        }
      ]
    },
    {
      "cell_type": "code",
      "source": [
        "v1, v2 = v2, v1\n",
        "print(v1) # 200\n",
        "print(v2) # 100"
      ],
      "metadata": {
        "colab": {
          "base_uri": "https://localhost:8080/"
        },
        "id": "DnH4udsxKjJO",
        "outputId": "cf0788f3-aada-4393-c00f-7cb1d23d1cca"
      },
      "execution_count": 95,
      "outputs": [
        {
          "output_type": "stream",
          "name": "stdout",
          "text": [
            "200\n",
            "100\n"
          ]
        }
      ]
    },
    {
      "cell_type": "code",
      "source": [
        "x = y = z = 10\n",
        "print(x, y, z)"
      ],
      "metadata": {
        "colab": {
          "base_uri": "https://localhost:8080/"
        },
        "id": "dL0oK0-KKwtH",
        "outputId": "a68c7cf2-8c66-4c95-9488-d7d2f6b62e1d"
      },
      "execution_count": 108,
      "outputs": [
        {
          "output_type": "stream",
          "name": "stdout",
          "text": [
            "10 10 10\n"
          ]
        }
      ]
    },
    {
      "cell_type": "code",
      "source": [
        "del z  # delete"
      ],
      "metadata": {
        "id": "GDdyzEM6K2cq"
      },
      "execution_count": 103,
      "outputs": []
    },
    {
      "cell_type": "code",
      "source": [
        "print(x, y)"
      ],
      "metadata": {
        "colab": {
          "base_uri": "https://localhost:8080/"
        },
        "id": "OZlQJYldLChf",
        "outputId": "a6a96f5c-2c28-4bfc-8aa9-46c17dae9a2a"
      },
      "execution_count": 106,
      "outputs": [
        {
          "output_type": "stream",
          "name": "stdout",
          "text": [
            "10 10\n"
          ]
        }
      ]
    },
    {
      "cell_type": "code",
      "source": [
        "print(z)"
      ],
      "metadata": {
        "colab": {
          "base_uri": "https://localhost:8080/",
          "height": 173
        },
        "id": "K3drOaR-LEzm",
        "outputId": "9bae5a3e-7e31-43e1-a5d1-e10db2e5b185"
      },
      "execution_count": 107,
      "outputs": [
        {
          "output_type": "error",
          "ename": "NameError",
          "evalue": "ignored",
          "traceback": [
            "\u001b[0;31m---------------------------------------------------------------------------\u001b[0m",
            "\u001b[0;31mNameError\u001b[0m                                 Traceback (most recent call last)",
            "\u001b[0;32m<ipython-input-107-c01ac3f50fdc>\u001b[0m in \u001b[0;36m<module>\u001b[0;34m\u001b[0m\n\u001b[0;32m----> 1\u001b[0;31m \u001b[0mprint\u001b[0m\u001b[0;34m(\u001b[0m\u001b[0mz\u001b[0m\u001b[0;34m)\u001b[0m\u001b[0;34m\u001b[0m\u001b[0;34m\u001b[0m\u001b[0m\n\u001b[0m",
            "\u001b[0;31mNameError\u001b[0m: name 'z' is not defined"
          ]
        }
      ]
    },
    {
      "cell_type": "markdown",
      "source": [
        "# 표준입력장치"
      ],
      "metadata": {
        "id": "L0yN4zvhMMDQ"
      }
    },
    {
      "cell_type": "code",
      "source": [
        "num = input() #표준입력장치는 문자로 형변환"
      ],
      "metadata": {
        "colab": {
          "base_uri": "https://localhost:8080/"
        },
        "id": "8sHyhx_VLG2j",
        "outputId": "04c120d4-85cf-4e9d-e099-f760ce9bdbac"
      },
      "execution_count": 109,
      "outputs": [
        {
          "name": "stdout",
          "output_type": "stream",
          "text": [
            "100\n"
          ]
        }
      ]
    },
    {
      "cell_type": "code",
      "source": [
        "print(num)"
      ],
      "metadata": {
        "colab": {
          "base_uri": "https://localhost:8080/"
        },
        "id": "kKoacpiWMuHC",
        "outputId": "2e06761c-23c2-4406-f5e4-2625e622273b"
      },
      "execution_count": 110,
      "outputs": [
        {
          "output_type": "stream",
          "name": "stdout",
          "text": [
            "100\n"
          ]
        }
      ]
    },
    {
      "cell_type": "code",
      "source": [
        "print(type(num))"
      ],
      "metadata": {
        "colab": {
          "base_uri": "https://localhost:8080/"
        },
        "id": "yPoZpKfeNAI3",
        "outputId": "5d4485d5-ae3a-4ecf-a982-edb848a0fcf3"
      },
      "execution_count": 111,
      "outputs": [
        {
          "output_type": "stream",
          "name": "stdout",
          "text": [
            "<class 'str'>\n"
          ]
        }
      ]
    },
    {
      "cell_type": "code",
      "source": [
        "a = int(num)"
      ],
      "metadata": {
        "id": "pX8LXWIbNF9x"
      },
      "execution_count": 114,
      "outputs": []
    },
    {
      "cell_type": "code",
      "source": [
        "print(type(a))\n",
        "print(a)"
      ],
      "metadata": {
        "colab": {
          "base_uri": "https://localhost:8080/"
        },
        "id": "1NHhiuB7NSt0",
        "outputId": "f2718970-073f-4ca5-a3a5-96ca8ce00a9d"
      },
      "execution_count": 116,
      "outputs": [
        {
          "output_type": "stream",
          "name": "stdout",
          "text": [
            "<class 'int'>\n",
            "100\n"
          ]
        }
      ]
    },
    {
      "cell_type": "code",
      "source": [
        "num2 = int(input())\n",
        "print(type(num2))\n",
        "print(num2)"
      ],
      "metadata": {
        "colab": {
          "base_uri": "https://localhost:8080/"
        },
        "id": "Dj2PV6bRNayt",
        "outputId": "829a1630-bd90-431c-fa79-5b0c791d0cfc"
      },
      "execution_count": 117,
      "outputs": [
        {
          "output_type": "stream",
          "name": "stdout",
          "text": [
            "100\n",
            "<class 'int'>\n",
            "100\n"
          ]
        }
      ]
    },
    {
      "cell_type": "code",
      "source": [
        "num3 = float(input())\n",
        "print(type(num3))\n",
        "print(num3)"
      ],
      "metadata": {
        "colab": {
          "base_uri": "https://localhost:8080/"
        },
        "id": "g88Crb8gN0Tf",
        "outputId": "3716555f-da72-4812-c3fb-3eb4de75d79a"
      },
      "execution_count": 118,
      "outputs": [
        {
          "output_type": "stream",
          "name": "stdout",
          "text": [
            "2\n",
            "<class 'float'>\n",
            "2.0\n"
          ]
        }
      ]
    },
    {
      "cell_type": "code",
      "source": [
        "num4 = int(float(input()))\n",
        "print(type(num4))\n",
        "print(num4)"
      ],
      "metadata": {
        "colab": {
          "base_uri": "https://localhost:8080/"
        },
        "id": "6rQSUHaJOC8n",
        "outputId": "f03cde77-92c2-420e-cd90-f6d5a3fbe16e"
      },
      "execution_count": 126,
      "outputs": [
        {
          "output_type": "stream",
          "name": "stdout",
          "text": [
            "11.111\n",
            "<class 'int'>\n",
            "11\n"
          ]
        }
      ]
    },
    {
      "cell_type": "code",
      "source": [
        "num5 = '10.235'\n",
        "num5 = float(num5)\n",
        "num6 = int(num5)\n",
        "print(type(num6))\n",
        "print(num6)"
      ],
      "metadata": {
        "colab": {
          "base_uri": "https://localhost:8080/"
        },
        "id": "my4RsT7jOcmY",
        "outputId": "2276f161-c77f-40d0-9de2-5211d4155fcf"
      },
      "execution_count": 123,
      "outputs": [
        {
          "output_type": "stream",
          "name": "stdout",
          "text": [
            "<class 'int'>\n",
            "10\n"
          ]
        }
      ]
    },
    {
      "cell_type": "code",
      "source": [
        "num7 = int(input(\"정수만 입력하세요 : \"))\n",
        "print(type(num7))\n",
        "print(num7)"
      ],
      "metadata": {
        "colab": {
          "base_uri": "https://localhost:8080/",
          "height": 227
        },
        "id": "HLt8g8iTOmRD",
        "outputId": "0204b3e9-a4cd-42c6-f425-96b168592cd4"
      },
      "execution_count": 128,
      "outputs": [
        {
          "name": "stdout",
          "output_type": "stream",
          "text": [
            "정수만 입력하세요 : ㅁㄴㅇㅁㄴㅇ\n"
          ]
        },
        {
          "output_type": "error",
          "ename": "ValueError",
          "evalue": "ignored",
          "traceback": [
            "\u001b[0;31m---------------------------------------------------------------------------\u001b[0m",
            "\u001b[0;31mValueError\u001b[0m                                Traceback (most recent call last)",
            "\u001b[0;32m<ipython-input-128-8e55330f5a32>\u001b[0m in \u001b[0;36m<module>\u001b[0;34m\u001b[0m\n\u001b[0;32m----> 1\u001b[0;31m \u001b[0mnum7\u001b[0m \u001b[0;34m=\u001b[0m \u001b[0mint\u001b[0m\u001b[0;34m(\u001b[0m\u001b[0minput\u001b[0m\u001b[0;34m(\u001b[0m\u001b[0;34m\"정수만 입력하세요 : \"\u001b[0m\u001b[0;34m)\u001b[0m\u001b[0;34m)\u001b[0m\u001b[0;34m\u001b[0m\u001b[0;34m\u001b[0m\u001b[0m\n\u001b[0m\u001b[1;32m      2\u001b[0m \u001b[0mprint\u001b[0m\u001b[0;34m(\u001b[0m\u001b[0mtype\u001b[0m\u001b[0;34m(\u001b[0m\u001b[0mnum7\u001b[0m\u001b[0;34m)\u001b[0m\u001b[0;34m)\u001b[0m\u001b[0;34m\u001b[0m\u001b[0;34m\u001b[0m\u001b[0m\n\u001b[1;32m      3\u001b[0m \u001b[0mprint\u001b[0m\u001b[0;34m(\u001b[0m\u001b[0mnum7\u001b[0m\u001b[0;34m)\u001b[0m\u001b[0;34m\u001b[0m\u001b[0;34m\u001b[0m\u001b[0m\n",
            "\u001b[0;31mValueError\u001b[0m: invalid literal for int() with base 10: 'ㅁㄴㅇㅁㄴㅇ'"
          ]
        }
      ]
    },
    {
      "cell_type": "code",
      "source": [
        "n1 = int(input(\"정수만:\"))\n",
        "n2 = int(input(\"정수만:\"))\n",
        "print(n1+n2)"
      ],
      "metadata": {
        "colab": {
          "base_uri": "https://localhost:8080/"
        },
        "id": "lHD5957cQAo_",
        "outputId": "c80ffa5d-19d3-457c-ee6e-931c841a66c5"
      },
      "execution_count": 129,
      "outputs": [
        {
          "output_type": "stream",
          "name": "stdout",
          "text": [
            "정수만:5\n",
            "정수만:3\n",
            "8\n"
          ]
        }
      ]
    },
    {
      "cell_type": "markdown",
      "source": [
        "# 표준출력장치"
      ],
      "metadata": {
        "id": "ThtFYU3xQgoY"
      }
    },
    {
      "cell_type": "code",
      "source": [
        "# format(value, '양식')\n",
        "help(format)"
      ],
      "metadata": {
        "colab": {
          "base_uri": "https://localhost:8080/"
        },
        "id": "_39an1C0QKsU",
        "outputId": "8490357a-ba9c-4a39-9787-130e37f61567"
      },
      "execution_count": 130,
      "outputs": [
        {
          "output_type": "stream",
          "name": "stdout",
          "text": [
            "Help on built-in function format in module builtins:\n",
            "\n",
            "format(value, format_spec='', /)\n",
            "    Return value.__format__(format_spec)\n",
            "    \n",
            "    format_spec defaults to the empty string.\n",
            "    See the Format Specification Mini-Language section of help('FORMATTING') for\n",
            "    details.\n",
            "\n"
          ]
        }
      ]
    },
    {
      "cell_type": "markdown",
      "source": [
        "# format과 양식문자"
      ],
      "metadata": {
        "id": "C0g2tUWqRC6I"
      }
    },
    {
      "cell_type": "code",
      "source": [
        "'''\n",
        "%양식문자\n",
        "%s : 문자열\n",
        "%c : 한개문자\n",
        "%d : 정수\n",
        "%f : 실수\n",
        "%o : 8진수\n",
        "%x : 16진수\n",
        "%% : %출력\n",
        "'''"
      ],
      "metadata": {
        "id": "xv-G9WvkQ8GG"
      },
      "execution_count": null,
      "outputs": []
    },
    {
      "cell_type": "code",
      "source": [
        "print('원주율 = ', 3.14159)"
      ],
      "metadata": {
        "colab": {
          "base_uri": "https://localhost:8080/"
        },
        "id": "-yC4CU79Rnls",
        "outputId": "cebd342f-0192-45d2-f080-15f276d7c6a3"
      },
      "execution_count": 131,
      "outputs": [
        {
          "output_type": "stream",
          "name": "stdout",
          "text": [
            "원주율 =  3.14159\n"
          ]
        }
      ]
    },
    {
      "cell_type": "code",
      "source": [
        "print('원주율 = ', format(3.14159, \"8.2f\")) # format(value, '양식')"
      ],
      "metadata": {
        "colab": {
          "base_uri": "https://localhost:8080/"
        },
        "id": "8lgT7qHXRv6Q",
        "outputId": "98edaa31-4e08-4f49-a386-69363023d57e"
      },
      "execution_count": 135,
      "outputs": [
        {
          "output_type": "stream",
          "name": "stdout",
          "text": [
            "원주율 =      3.14\n"
          ]
        }
      ]
    },
    {
      "cell_type": "code",
      "source": [
        "x = 3.14159\n",
        "print(f'원주율 = {x:8.2f}')"
      ],
      "metadata": {
        "colab": {
          "base_uri": "https://localhost:8080/"
        },
        "id": "jqt_eTInl-Mk",
        "outputId": "b92b8483-4e16-4f59-88dd-48d098bc0fad"
      },
      "execution_count": 145,
      "outputs": [
        {
          "output_type": "stream",
          "name": "stdout",
          "text": [
            "원주율 =     3.14\n"
          ]
        }
      ]
    },
    {
      "cell_type": "code",
      "source": [
        "print('금액 = ', format(10000, \"1,d\"))"
      ],
      "metadata": {
        "colab": {
          "base_uri": "https://localhost:8080/"
        },
        "id": "7HqdTexDSc8I",
        "outputId": "e8dfd1e2-0457-406e-d17b-3a1c5490829f"
      },
      "execution_count": 180,
      "outputs": [
        {
          "output_type": "stream",
          "name": "stdout",
          "text": [
            "금액 =  10,000\n"
          ]
        }
      ]
    },
    {
      "cell_type": "code",
      "source": [
        "print(f'금액 = {10000:10,}')"
      ],
      "metadata": {
        "colab": {
          "base_uri": "https://localhost:8080/"
        },
        "id": "V52VvcM4mY38",
        "outputId": "5b9e0151-c770-463a-f9e4-fb163ed9023b"
      },
      "execution_count": 148,
      "outputs": [
        {
          "output_type": "stream",
          "name": "stdout",
          "text": [
            "금액 =     10,000\n"
          ]
        }
      ]
    },
    {
      "cell_type": "code",
      "source": [
        "print('금액 = ', format(1000000000000000, \"3,d\"))"
      ],
      "metadata": {
        "colab": {
          "base_uri": "https://localhost:8080/"
        },
        "id": "XXLEDa18SvcK",
        "outputId": "93623567-256d-449d-9126-edbe516a04f7"
      },
      "execution_count": 137,
      "outputs": [
        {
          "output_type": "stream",
          "name": "stdout",
          "text": [
            "금액 =  1,000,000,000,000,000\n"
          ]
        }
      ]
    },
    {
      "cell_type": "code",
      "source": [
        "# 3)외부상수받기\n",
        "name = '홍길동'\n",
        "age = 25\n",
        "tall = 175.456\n",
        "print('이름 : %s, 나이: %d, data = %.2f'%(age, age, tall))"
      ],
      "metadata": {
        "colab": {
          "base_uri": "https://localhost:8080/"
        },
        "id": "Cca3B3i5jfgk",
        "outputId": "8ca4f92d-800d-40c1-bc2f-e922f2f8ce56"
      },
      "execution_count": 141,
      "outputs": [
        {
          "output_type": "stream",
          "name": "stdout",
          "text": [
            "이름 : 25, 나이: 25, data = 175.46\n"
          ]
        }
      ]
    },
    {
      "cell_type": "code",
      "source": [
        "print('이름:{}, 나이:{}, data{}'.format(age, age, tall))"
      ],
      "metadata": {
        "colab": {
          "base_uri": "https://localhost:8080/"
        },
        "id": "hYL1DLbNkodD",
        "outputId": "5ec4a549-5e66-4033-c36f-9dca94b6af5f"
      },
      "execution_count": 142,
      "outputs": [
        {
          "output_type": "stream",
          "name": "stdout",
          "text": [
            "이름:25, 나이:25, data175.456\n"
          ]
        }
      ]
    },
    {
      "cell_type": "code",
      "source": [
        "#축약형 f-string\n",
        "print(f'이름:{name}, 나이:{age}, data : {tall}') "
      ],
      "metadata": {
        "id": "G-sYwdb2lKdV"
      },
      "execution_count": null,
      "outputs": []
    },
    {
      "cell_type": "markdown",
      "source": [
        "참고사항"
      ],
      "metadata": {
        "id": "nHG_vySZnK3M"
      }
    },
    {
      "cell_type": "code",
      "source": [
        "# 변수를 만들때 3가지 방법\n",
        "# camel표기법, snake표기법, pascal표기법\n",
        "camelCase = 1\n",
        "snake_case = 1\n",
        "PascalCase = 1 "
      ],
      "metadata": {
        "id": "fOF8hhzunMHP"
      },
      "execution_count": null,
      "outputs": []
    },
    {
      "cell_type": "markdown",
      "source": [
        "# 문자열"
      ],
      "metadata": {
        "id": "ZkET-BeMpNhU"
      }
    },
    {
      "cell_type": "code",
      "source": [
        "multiline = \"Life is too short \\n You need python\"\n",
        "print(multiline)"
      ],
      "metadata": {
        "colab": {
          "base_uri": "https://localhost:8080/"
        },
        "id": "H2wNjnvypOX9",
        "outputId": "857f9642-43d5-498d-e9e7-526846e1fb3a"
      },
      "execution_count": 150,
      "outputs": [
        {
          "output_type": "stream",
          "name": "stdout",
          "text": [
            "Life is too short \n",
            " You need python\n"
          ]
        }
      ]
    },
    {
      "cell_type": "code",
      "source": [
        "multiline2 = ''' \n",
        "여러줄의 \n",
        "문장을\n",
        "한번에 포함 시킬수 있음\n",
        "'''\n",
        "print(multiline2)"
      ],
      "metadata": {
        "colab": {
          "base_uri": "https://localhost:8080/"
        },
        "id": "M5lyF7OrpnIb",
        "outputId": "4ed2bbe5-aa7d-416b-8958-16555bf760b0"
      },
      "execution_count": 153,
      "outputs": [
        {
          "output_type": "stream",
          "name": "stdout",
          "text": [
            " \n",
            "여러줄의 \n",
            "문장을\n",
            "한번에 포함 시킬수 있음\n",
            "\n"
          ]
        }
      ]
    },
    {
      "cell_type": "code",
      "source": [
        "head = 'python'\n",
        "tail = '    is fun!'\n",
        "print(head + tail)"
      ],
      "metadata": {
        "colab": {
          "base_uri": "https://localhost:8080/"
        },
        "id": "nERCnwxwql92",
        "outputId": "07ad161d-d88b-4c42-84a7-e4dff7a69dfb"
      },
      "execution_count": 154,
      "outputs": [
        {
          "output_type": "stream",
          "name": "stdout",
          "text": [
            "python    is fun!\n"
          ]
        }
      ]
    },
    {
      "cell_type": "code",
      "source": [
        "head = 'python'\n",
        "tail = '    is fun!'\n",
        "print(head * 3)"
      ],
      "metadata": {
        "colab": {
          "base_uri": "https://localhost:8080/"
        },
        "id": "fKA8WbxMq36N",
        "outputId": "a7e49d0a-bd5c-46dd-f712-e81ae08c59cb"
      },
      "execution_count": 157,
      "outputs": [
        {
          "output_type": "stream",
          "name": "stdout",
          "text": [
            "pythonpythonpython\n"
          ]
        }
      ]
    },
    {
      "cell_type": "code",
      "source": [
        "a = \"Life is too short, You need python\"\n",
        "a[3]"
      ],
      "metadata": {
        "id": "wTpgDhydq90m"
      },
      "execution_count": null,
      "outputs": []
    },
    {
      "cell_type": "code",
      "source": [
        "a[12]"
      ],
      "metadata": {
        "id": "VPi5s8ScrmXt"
      },
      "execution_count": null,
      "outputs": []
    },
    {
      "cell_type": "code",
      "source": [
        "a[-1]"
      ],
      "metadata": {
        "id": "s3198IeGryzV"
      },
      "execution_count": null,
      "outputs": []
    },
    {
      "cell_type": "code",
      "source": [
        "a[-5]"
      ],
      "metadata": {
        "colab": {
          "base_uri": "https://localhost:8080/",
          "height": 35
        },
        "id": "qKI7-hYmr6Pw",
        "outputId": "173cad68-b363-4496-a8ff-05785c04a71d"
      },
      "execution_count": 162,
      "outputs": [
        {
          "output_type": "execute_result",
          "data": {
            "text/plain": [
              "'y'"
            ],
            "application/vnd.google.colaboratory.intrinsic+json": {
              "type": "string"
            }
          },
          "metadata": {},
          "execution_count": 162
        }
      ]
    },
    {
      "cell_type": "code",
      "source": [
        "a = \"Life is too short, You need python\"\n",
        "print(a[5:-1])\n",
        "print(a[5:-1:2])"
      ],
      "metadata": {
        "colab": {
          "base_uri": "https://localhost:8080/"
        },
        "id": "NNObiBa7sRGl",
        "outputId": "74e48c8b-5830-4c4a-b4bf-09f8ae3aa8d5"
      },
      "execution_count": 163,
      "outputs": [
        {
          "output_type": "stream",
          "name": "stdout",
          "text": [
            "is too short, You need pytho\n",
            "i o hr,Yune yh\n"
          ]
        }
      ]
    },
    {
      "cell_type": "code",
      "source": [
        "a[0:4] # n-1"
      ],
      "metadata": {
        "colab": {
          "base_uri": "https://localhost:8080/",
          "height": 35
        },
        "id": "3rZ_RGQcszD9",
        "outputId": "2b6d06af-7a70-4cc1-fae0-81cc2f31c3c9"
      },
      "execution_count": 166,
      "outputs": [
        {
          "output_type": "execute_result",
          "data": {
            "text/plain": [
              "'Life'"
            ],
            "application/vnd.google.colaboratory.intrinsic+json": {
              "type": "string"
            }
          },
          "metadata": {},
          "execution_count": 166
        }
      ]
    },
    {
      "cell_type": "code",
      "source": [
        "# a[처음:끝번호(n-1):간격]"
      ],
      "metadata": {
        "id": "bvdVLdTdtEdO"
      },
      "execution_count": null,
      "outputs": []
    },
    {
      "cell_type": "code",
      "source": [
        "a[-50]"
      ],
      "metadata": {
        "id": "OQ3XvU8RtYlW"
      },
      "execution_count": null,
      "outputs": []
    },
    {
      "cell_type": "code",
      "source": [
        "a = '20230307Rainy'\n",
        "date = a[0:8]\n",
        "weather = a[8:-1]\n",
        "print(date)\n",
        "print(weather)"
      ],
      "metadata": {
        "colab": {
          "base_uri": "https://localhost:8080/"
        },
        "id": "WhTHqN_Uts78",
        "outputId": "cdfc5e52-5804-4c79-a3ee-ce69b41a94b7"
      },
      "execution_count": 172,
      "outputs": [
        {
          "output_type": "stream",
          "name": "stdout",
          "text": [
            "20230307\n",
            "Rain\n"
          ]
        }
      ]
    },
    {
      "cell_type": "code",
      "source": [
        "date = a[:8]\n",
        "weather = a[8:]\n",
        "print(date)\n",
        "print(weather)"
      ],
      "metadata": {
        "id": "Idn9aFWAuD4H"
      },
      "execution_count": null,
      "outputs": []
    },
    {
      "cell_type": "code",
      "source": [
        "# 음수만 슬라이싱\n",
        "b = 'Hello world'"
      ],
      "metadata": {
        "id": "2yHd0VjAuclu"
      },
      "execution_count": 183,
      "outputs": []
    },
    {
      "cell_type": "code",
      "source": [
        "print(b[:5])\n",
        "print(b[6:])"
      ],
      "metadata": {
        "id": "UUA-oQm6yGeP"
      },
      "execution_count": null,
      "outputs": []
    },
    {
      "cell_type": "code",
      "source": [
        "print(b[-11:-6])\n",
        "print(b[-5: ])"
      ],
      "metadata": {
        "id": "6_03RfVVy-Cf"
      },
      "execution_count": null,
      "outputs": []
    },
    {
      "cell_type": "code",
      "source": [
        "#역순으로 \n",
        "print(b[::-1])"
      ],
      "metadata": {
        "colab": {
          "base_uri": "https://localhost:8080/"
        },
        "id": "cLdL3Nq_zXWG",
        "outputId": "1047e919-81f5-4f19-ab9a-804d6f722cab"
      },
      "execution_count": 188,
      "outputs": [
        {
          "output_type": "stream",
          "name": "stdout",
          "text": [
            "dlrow olleH\n"
          ]
        }
      ]
    },
    {
      "cell_type": "code",
      "source": [
        "a = 'hobby'\n",
        "a.count('b')"
      ],
      "metadata": {
        "colab": {
          "base_uri": "https://localhost:8080/"
        },
        "id": "2BSzv3CwzhUy",
        "outputId": "2853dbf2-325f-4b5f-c832-489db245ca1f"
      },
      "execution_count": 189,
      "outputs": [
        {
          "output_type": "execute_result",
          "data": {
            "text/plain": [
              "2"
            ]
          },
          "metadata": {},
          "execution_count": 189
        }
      ]
    },
    {
      "cell_type": "code",
      "source": [
        "a = 'Python is best program'\n",
        "a.find('b')"
      ],
      "metadata": {
        "colab": {
          "base_uri": "https://localhost:8080/"
        },
        "id": "_erW6YSF0yIu",
        "outputId": "3fc7fe6d-69be-44fa-8cb1-1318771d2bd3"
      },
      "execution_count": 190,
      "outputs": [
        {
          "output_type": "execute_result",
          "data": {
            "text/plain": [
              "10"
            ]
          },
          "metadata": {},
          "execution_count": 190
        }
      ]
    },
    {
      "cell_type": "code",
      "source": [
        "a.find('k')"
      ],
      "metadata": {
        "colab": {
          "base_uri": "https://localhost:8080/"
        },
        "id": "RMn5MnRe1Fl2",
        "outputId": "e2f50aa3-4ee0-4bd4-ba7c-11b1790633da"
      },
      "execution_count": 191,
      "outputs": [
        {
          "output_type": "execute_result",
          "data": {
            "text/plain": [
              "-1"
            ]
          },
          "metadata": {},
          "execution_count": 191
        }
      ]
    },
    {
      "cell_type": "code",
      "source": [
        "a.index('b')"
      ],
      "metadata": {
        "colab": {
          "base_uri": "https://localhost:8080/"
        },
        "id": "bb8i2YQq1RJu",
        "outputId": "02d5fc2e-e8e0-4814-fa26-128827440cab"
      },
      "execution_count": 192,
      "outputs": [
        {
          "output_type": "execute_result",
          "data": {
            "text/plain": [
              "10"
            ]
          },
          "metadata": {},
          "execution_count": 192
        }
      ]
    },
    {
      "cell_type": "code",
      "source": [
        "a.index('k')"
      ],
      "metadata": {
        "colab": {
          "base_uri": "https://localhost:8080/",
          "height": 173
        },
        "id": "2S82EDx_1bSn",
        "outputId": "112b39b5-1a7f-4a34-ea3e-1a733563ed62"
      },
      "execution_count": 193,
      "outputs": [
        {
          "output_type": "error",
          "ename": "ValueError",
          "evalue": "ignored",
          "traceback": [
            "\u001b[0;31m---------------------------------------------------------------------------\u001b[0m",
            "\u001b[0;31mValueError\u001b[0m                                Traceback (most recent call last)",
            "\u001b[0;32m<ipython-input-193-cb6c8ec35229>\u001b[0m in \u001b[0;36m<module>\u001b[0;34m\u001b[0m\n\u001b[0;32m----> 1\u001b[0;31m \u001b[0ma\u001b[0m\u001b[0;34m.\u001b[0m\u001b[0mindex\u001b[0m\u001b[0;34m(\u001b[0m\u001b[0;34m'k'\u001b[0m\u001b[0;34m)\u001b[0m\u001b[0;34m\u001b[0m\u001b[0;34m\u001b[0m\u001b[0m\n\u001b[0m",
            "\u001b[0;31mValueError\u001b[0m: substring not found"
          ]
        }
      ]
    },
    {
      "cell_type": "code",
      "source": [
        "' '.join('abcdefg')"
      ],
      "metadata": {
        "colab": {
          "base_uri": "https://localhost:8080/",
          "height": 35
        },
        "id": "YXi4SzqF1tFv",
        "outputId": "e60d384c-bd50-43d3-8401-6ed5ce822481"
      },
      "execution_count": 196,
      "outputs": [
        {
          "output_type": "execute_result",
          "data": {
            "text/plain": [
              "'a b c d e f g'"
            ],
            "application/vnd.google.colaboratory.intrinsic+json": {
              "type": "string"
            }
          },
          "metadata": {},
          "execution_count": 196
        }
      ]
    },
    {
      "cell_type": "code",
      "source": [
        "g = ','\n",
        "g.join('abcedf')"
      ],
      "metadata": {
        "colab": {
          "base_uri": "https://localhost:8080/",
          "height": 35
        },
        "id": "2AkogNwf2IJH",
        "outputId": "b0c48c3a-b384-4ef6-f287-b347356f60aa"
      },
      "execution_count": 197,
      "outputs": [
        {
          "output_type": "execute_result",
          "data": {
            "text/plain": [
              "'a,b,c,e,d,f'"
            ],
            "application/vnd.google.colaboratory.intrinsic+json": {
              "type": "string"
            }
          },
          "metadata": {},
          "execution_count": 197
        }
      ]
    },
    {
      "cell_type": "code",
      "source": [
        "a = 'Python is best program'\n",
        "a.upper()"
      ],
      "metadata": {
        "colab": {
          "base_uri": "https://localhost:8080/",
          "height": 35
        },
        "id": "1AEQlo9q2NtX",
        "outputId": "43e315bc-ffa9-44bd-de41-13f89ed16b23"
      },
      "execution_count": 198,
      "outputs": [
        {
          "output_type": "execute_result",
          "data": {
            "text/plain": [
              "'PYTHON IS BEST PROGRAM'"
            ],
            "application/vnd.google.colaboratory.intrinsic+json": {
              "type": "string"
            }
          },
          "metadata": {},
          "execution_count": 198
        }
      ]
    },
    {
      "cell_type": "code",
      "source": [
        "a.lower()"
      ],
      "metadata": {
        "colab": {
          "base_uri": "https://localhost:8080/",
          "height": 35
        },
        "id": "6S4r3RZJ2ah-",
        "outputId": "7471d9cc-beba-4bca-ea5f-09217c95a2e6"
      },
      "execution_count": 199,
      "outputs": [
        {
          "output_type": "execute_result",
          "data": {
            "text/plain": [
              "'python is best program'"
            ],
            "application/vnd.google.colaboratory.intrinsic+json": {
              "type": "string"
            }
          },
          "metadata": {},
          "execution_count": 199
        }
      ]
    },
    {
      "cell_type": "code",
      "source": [
        "a = \"    Hi       \"\n",
        "a.strip()"
      ],
      "metadata": {
        "colab": {
          "base_uri": "https://localhost:8080/",
          "height": 35
        },
        "id": "6fasWfnG2heo",
        "outputId": "a62079d5-5268-4bcf-ed18-a45262ee7550"
      },
      "execution_count": 203,
      "outputs": [
        {
          "output_type": "execute_result",
          "data": {
            "text/plain": [
              "'Hi'"
            ],
            "application/vnd.google.colaboratory.intrinsic+json": {
              "type": "string"
            }
          },
          "metadata": {},
          "execution_count": 203
        }
      ]
    },
    {
      "cell_type": "code",
      "source": [
        "a = 'Java is best program'\n",
        "a.replace('Java', 'Python')"
      ],
      "metadata": {
        "colab": {
          "base_uri": "https://localhost:8080/",
          "height": 35
        },
        "id": "keVKTjRA20cZ",
        "outputId": "f45fcd90-a988-4cb0-c30b-33ed4899bebe"
      },
      "execution_count": 206,
      "outputs": [
        {
          "output_type": "execute_result",
          "data": {
            "text/plain": [
              "'Java is best program'"
            ],
            "application/vnd.google.colaboratory.intrinsic+json": {
              "type": "string"
            }
          },
          "metadata": {},
          "execution_count": 206
        }
      ]
    },
    {
      "cell_type": "code",
      "source": [
        "a.split()"
      ],
      "metadata": {
        "colab": {
          "base_uri": "https://localhost:8080/"
        },
        "id": "eaUAm-sV3Z4o",
        "outputId": "eb240716-f027-4dc1-d634-eee34a6b3636"
      },
      "execution_count": 207,
      "outputs": [
        {
          "output_type": "execute_result",
          "data": {
            "text/plain": [
              "['Java', 'is', 'best', 'program']"
            ]
          },
          "metadata": {},
          "execution_count": 207
        }
      ]
    },
    {
      "cell_type": "code",
      "source": [
        "a = 'a:b:c:d'\n",
        "a.split(':')"
      ],
      "metadata": {
        "colab": {
          "base_uri": "https://localhost:8080/"
        },
        "id": "XD2-1lXs3jNK",
        "outputId": "eac6f292-3f10-4247-cd24-ea2a5396b834"
      },
      "execution_count": 208,
      "outputs": [
        {
          "output_type": "execute_result",
          "data": {
            "text/plain": [
              "['a', 'b', 'c', 'd']"
            ]
          },
          "metadata": {},
          "execution_count": 208
        }
      ]
    },
    {
      "cell_type": "code",
      "source": [
        "phone = '010-1234-5678'\n",
        "phone.split('-')"
      ],
      "metadata": {
        "colab": {
          "base_uri": "https://localhost:8080/"
        },
        "id": "h4Co8hFZ3zNY",
        "outputId": "abc3cec8-4f22-4bb3-f08e-8a881b27a5ea"
      },
      "execution_count": 209,
      "outputs": [
        {
          "output_type": "execute_result",
          "data": {
            "text/plain": [
              "['010', '1234', '5678']"
            ]
          },
          "metadata": {},
          "execution_count": 209
        }
      ]
    },
    {
      "cell_type": "code",
      "source": [
        "email = 'abcd@naver.com'\n",
        "email.split('@')"
      ],
      "metadata": {
        "colab": {
          "base_uri": "https://localhost:8080/"
        },
        "id": "HbomFlL_4CJY",
        "outputId": "2d27f3b8-1d42-4cad-b614-56a742eeabf6"
      },
      "execution_count": 210,
      "outputs": [
        {
          "output_type": "execute_result",
          "data": {
            "text/plain": [
              "['abcd', 'naver.com']"
            ]
          },
          "metadata": {},
          "execution_count": 210
        }
      ]
    },
    {
      "cell_type": "markdown",
      "source": [
        "퀴즈"
      ],
      "metadata": {
        "id": "6iPeLyTN4Xb_"
      }
    },
    {
      "cell_type": "code",
      "source": [
        "b = email.split('@')\n",
        "b[1].split('.')\n",
        "#1. ['naver', 'com']"
      ],
      "metadata": {
        "colab": {
          "base_uri": "https://localhost:8080/"
        },
        "id": "LicBh1Zr4Yb1",
        "outputId": "d310dfcf-9647-4ad3-a37c-cc9b275080d7"
      },
      "execution_count": 214,
      "outputs": [
        {
          "output_type": "execute_result",
          "data": {
            "text/plain": [
              "['naver', 'com']"
            ]
          },
          "metadata": {},
          "execution_count": 214
        }
      ]
    },
    {
      "cell_type": "code",
      "source": [
        "#2. letter = 'python'\n",
        "letter = 'python'\n",
        "print(letter[0], letter[2])\n",
        "# p t"
      ],
      "metadata": {
        "colab": {
          "base_uri": "https://localhost:8080/"
        },
        "id": "q_PL69HA4oE3",
        "outputId": "57520600-4218-494e-e81a-92115e42f4ca"
      },
      "execution_count": 215,
      "outputs": [
        {
          "output_type": "stream",
          "name": "stdout",
          "text": [
            "p t\n"
          ]
        }
      ]
    },
    {
      "cell_type": "code",
      "source": [
        "# 3. string = '홀짝홀짝홀짝'\n",
        "string = '홀짝홀짝홀짝'\n",
        "print(string[::2])\n",
        "#홀홀홀"
      ],
      "metadata": {
        "colab": {
          "base_uri": "https://localhost:8080/"
        },
        "id": "mn--DblR4v3V",
        "outputId": "66c6bd17-25f8-42e0-b8d0-8bed31b84d42"
      },
      "execution_count": 216,
      "outputs": [
        {
          "output_type": "stream",
          "name": "stdout",
          "text": [
            "홀홀홀\n"
          ]
        }
      ]
    },
    {
      "cell_type": "code",
      "source": [
        "#4. 표준입력장치로 사용자의 영문이름을 입력받아서 \n",
        "# 성과 이름을 순서를 바꾸어 출력하는 프로그램을 작성\n",
        "# 'hong gildong'\n",
        "# 'gildong hong'"
      ],
      "metadata": {
        "id": "rqYPJogv480x"
      },
      "execution_count": null,
      "outputs": []
    },
    {
      "cell_type": "code",
      "source": [
        "full_name = input('영문이름입력(성과 이름은 공백으로구분) :')"
      ],
      "metadata": {
        "colab": {
          "base_uri": "https://localhost:8080/"
        },
        "id": "vosfZ81K_AS6",
        "outputId": "36ae4deb-ffce-41c8-a028-e7c124175275"
      },
      "execution_count": 217,
      "outputs": [
        {
          "name": "stdout",
          "output_type": "stream",
          "text": [
            "영문이름입력(성과 이름은 공백으로구분) :hong gildong\n"
          ]
        }
      ]
    },
    {
      "cell_type": "code",
      "source": [
        "print(full_name)"
      ],
      "metadata": {
        "colab": {
          "base_uri": "https://localhost:8080/"
        },
        "id": "t0m-5zeh_Oue",
        "outputId": "0bc4925a-7183-4215-c84e-a64b0d1995b6"
      },
      "execution_count": 218,
      "outputs": [
        {
          "output_type": "stream",
          "name": "stdout",
          "text": [
            "hong gildong\n"
          ]
        }
      ]
    },
    {
      "cell_type": "code",
      "source": [
        "full_name.split()"
      ],
      "metadata": {
        "colab": {
          "base_uri": "https://localhost:8080/"
        },
        "id": "DJQP3S8-_UpS",
        "outputId": "a8a41d58-a756-42e2-c745-28afc12e8f1d"
      },
      "execution_count": 219,
      "outputs": [
        {
          "output_type": "execute_result",
          "data": {
            "text/plain": [
              "['hong', 'gildong']"
            ]
          },
          "metadata": {},
          "execution_count": 219
        }
      ]
    },
    {
      "cell_type": "code",
      "source": [
        "space = full_name.find(' ')"
      ],
      "metadata": {
        "id": "NUYylE36_evV"
      },
      "execution_count": 220,
      "outputs": []
    },
    {
      "cell_type": "code",
      "source": [
        "print(space)"
      ],
      "metadata": {
        "colab": {
          "base_uri": "https://localhost:8080/"
        },
        "id": "xcyrLPNV_poE",
        "outputId": "93ca051f-4fe7-43ce-f28f-5cb4a91d76f1"
      },
      "execution_count": 221,
      "outputs": [
        {
          "output_type": "stream",
          "name": "stdout",
          "text": [
            "4\n"
          ]
        }
      ]
    },
    {
      "cell_type": "code",
      "source": [
        "first_name = full_name[:space]\n",
        "last_name = full_name[space+1:]\n",
        "print(first_name)\n",
        "print(last_name)"
      ],
      "metadata": {
        "colab": {
          "base_uri": "https://localhost:8080/"
        },
        "id": "WH2d-mRf_sPr",
        "outputId": "70c5419c-ffb1-4536-a492-06b563283444"
      },
      "execution_count": 222,
      "outputs": [
        {
          "output_type": "stream",
          "name": "stdout",
          "text": [
            "hong\n",
            "gildong\n"
          ]
        }
      ]
    },
    {
      "cell_type": "code",
      "source": [
        "# ['hong', 'gildong']\n",
        "first_name2 = full_name.split()[0]\n",
        "last_name2 = full_name.split()[1]\n",
        "print(first_name2)\n",
        "print(last_name2)"
      ],
      "metadata": {
        "colab": {
          "base_uri": "https://localhost:8080/"
        },
        "id": "IoZEtH38AeFg",
        "outputId": "d0683986-5b63-481d-91af-09047c89dd9c"
      },
      "execution_count": 223,
      "outputs": [
        {
          "output_type": "stream",
          "name": "stdout",
          "text": [
            "hong\n",
            "gildong\n"
          ]
        }
      ]
    },
    {
      "cell_type": "code",
      "source": [
        "full_name.capitalize()"
      ],
      "metadata": {
        "colab": {
          "base_uri": "https://localhost:8080/",
          "height": 35
        },
        "id": "Vgp0VSTCA7eJ",
        "outputId": "f3bcf9ef-7de8-4470-8b71-3305db799542"
      },
      "execution_count": 224,
      "outputs": [
        {
          "output_type": "execute_result",
          "data": {
            "text/plain": [
              "'Hong gildong'"
            ],
            "application/vnd.google.colaboratory.intrinsic+json": {
              "type": "string"
            }
          },
          "metadata": {},
          "execution_count": 224
        }
      ]
    },
    {
      "cell_type": "markdown",
      "source": [
        "# 이스케이프문자\n"
      ],
      "metadata": {
        "id": "Rx17QnCgBnyL"
      }
    },
    {
      "cell_type": "code",
      "source": [
        "print('escape 문자 차단')\n",
        "# 경로\n",
        "print('path =', 'c:\\python38\\test')\n",
        "print('path =', 'c:\\\\python38\\\\test')\n",
        "print('path =', r'c:\\python38\\test\\naver')"
      ],
      "metadata": {
        "colab": {
          "base_uri": "https://localhost:8080/"
        },
        "id": "dzyvLm5ZBdhj",
        "outputId": "377402b5-c8f9-475c-c6d5-4e562306c564"
      },
      "execution_count": 229,
      "outputs": [
        {
          "output_type": "stream",
          "name": "stdout",
          "text": [
            "escape 문자 차단\n",
            "path = c:\\python38\test\n",
            "path = c:\\python38\\test\n",
            "path = c:\\python38\\test\\naver\n"
          ]
        }
      ]
    },
    {
      "cell_type": "code",
      "source": [
        "# 1. 신씨가 소리질렀다.\"도둑이야\"\n",
        "# 2. c:\\windows\\naver\\test\n",
        "# 3. naver/kakao/sk/samsung\n",
        "# 4. station = '신촌', door = '왼쪽'\n",
        "#  이번역은 신촌역입니다. 내리실문은 왼쪽입니다."
      ],
      "metadata": {
        "id": "UFDjWiHfC1Fm"
      },
      "execution_count": null,
      "outputs": []
    },
    {
      "cell_type": "code",
      "source": [
        "print('신씨가 소리질렀다.\"도둑이야\"')"
      ],
      "metadata": {
        "colab": {
          "base_uri": "https://localhost:8080/"
        },
        "id": "DHX8KknhFPEs",
        "outputId": "81fefd81-99fc-4446-f617-efd24bd8a582"
      },
      "execution_count": 230,
      "outputs": [
        {
          "output_type": "stream",
          "name": "stdout",
          "text": [
            "신씨가 소리질렀다.\"도둑이야\"\n"
          ]
        }
      ]
    },
    {
      "cell_type": "code",
      "source": [
        "print(\"신씨가 소리질렀다.\\\"도둑이야\\\"\")"
      ],
      "metadata": {
        "colab": {
          "base_uri": "https://localhost:8080/"
        },
        "id": "pC05kOw-Fbwj",
        "outputId": "e6b38410-04de-439e-9c87-86dddb8d38ad"
      },
      "execution_count": 231,
      "outputs": [
        {
          "output_type": "stream",
          "name": "stdout",
          "text": [
            "신씨가 소리질렀다.\"도둑이야\"\n"
          ]
        }
      ]
    },
    {
      "cell_type": "code",
      "source": [
        "print(r'c:\\windows\\naver\\test') #raw"
      ],
      "metadata": {
        "colab": {
          "base_uri": "https://localhost:8080/"
        },
        "id": "WfCEPkj6FnNi",
        "outputId": "7d87617e-aa86-4211-dd7e-2b7b0716b903"
      },
      "execution_count": 233,
      "outputs": [
        {
          "output_type": "stream",
          "name": "stdout",
          "text": [
            "c:\\windows\\naver\\test\n"
          ]
        }
      ]
    },
    {
      "cell_type": "code",
      "source": [
        "print('c:\\\\windows\\\\naver\\\\test')"
      ],
      "metadata": {
        "colab": {
          "base_uri": "https://localhost:8080/"
        },
        "id": "9thtG89oFy1q",
        "outputId": "71df9e65-4fb6-41f4-b2b1-ef2abe913758"
      },
      "execution_count": 235,
      "outputs": [
        {
          "output_type": "stream",
          "name": "stdout",
          "text": [
            "c:\\windows\\naver\\test\n"
          ]
        }
      ]
    },
    {
      "cell_type": "code",
      "source": [
        "# naver/kakao/sk/samsung\n",
        "print(\"naver\", \"kakao\", \"sk\", \"samsung\", sep='/')"
      ],
      "metadata": {
        "colab": {
          "base_uri": "https://localhost:8080/"
        },
        "id": "WyddAwpKF4wi",
        "outputId": "9dac0b37-7402-48a8-8ac5-5256f2c7d97e"
      },
      "execution_count": 238,
      "outputs": [
        {
          "output_type": "stream",
          "name": "stdout",
          "text": [
            "naver/kakao/sk/samsung\n"
          ]
        }
      ]
    },
    {
      "cell_type": "code",
      "source": [
        "station = '신촌'\n",
        "door = '왼쪽'\n",
        "print(f'이번역은 {station}역입니다. 내리실문은 {door}입니다.')"
      ],
      "metadata": {
        "colab": {
          "base_uri": "https://localhost:8080/"
        },
        "id": "UeYW-tfTF-jE",
        "outputId": "58f7562e-9ffb-4ac7-8fa6-4dc865f6ecc0"
      },
      "execution_count": 239,
      "outputs": [
        {
          "output_type": "stream",
          "name": "stdout",
          "text": [
            "이번역은 신촌역입니다. 내리실문은 왼쪽입니다.\n"
          ]
        }
      ]
    },
    {
      "cell_type": "code",
      "source": [
        "print('이번역은' + station + '역입니다. 내리실문은' + door + '입니다.')"
      ],
      "metadata": {
        "colab": {
          "base_uri": "https://localhost:8080/"
        },
        "id": "8SiuSJtuGoV6",
        "outputId": "de9c3be6-034f-42be-c546-165dbbd33350"
      },
      "execution_count": 240,
      "outputs": [
        {
          "output_type": "stream",
          "name": "stdout",
          "text": [
            "이번역은신촌역입니다. 내리실문은왼쪽입니다.\n"
          ]
        }
      ]
    }
  ]
}